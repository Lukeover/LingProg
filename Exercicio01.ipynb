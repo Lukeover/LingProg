{
 "cells": [
  {
   "cell_type": "markdown",
   "metadata": {},
   "source": [
    "## Números e Operações Aritméticas\n",
    "LingProg - Lukas Barbosa de Oliveira - RA: 81714448 <br><br>\n",
    "1 Faça um Programa que peça o raio de um círculo, calcule e mostre sua área."
   ]
  },
  {
   "cell_type": "code",
   "execution_count": 22,
   "metadata": {},
   "outputs": [
    {
     "name": "stdout",
     "output_type": "stream",
     "text": [
      "Digite o valor do raio: 3\n",
      "Area do circulo é: 28.274333882308138\n"
     ]
    }
   ],
   "source": [
    "raio = float(input(\"Digite o valor do raio: \"))\n",
    "pi =3.1415926535897932384626433832795028841971\n",
    "area = (raio ** 2)*pi\n",
    "print(\"Area do circulo é: \" + str(area))"
   ]
  },
  {
   "cell_type": "markdown",
   "metadata": {},
   "source": [
    "<h4>2 Faça um Programa que calcule a área de um quadrado, em seguida mostre o dobro\n",
    "desta área para o usuário.</h4>"
   ]
  },
  {
   "cell_type": "code",
   "execution_count": 23,
   "metadata": {},
   "outputs": [
    {
     "name": "stdout",
     "output_type": "stream",
     "text": [
      "Digite o valor do lado do quadrado: 2\n",
      "8.0\n"
     ]
    }
   ],
   "source": [
    "lado = float(input(\"Digite o valor do lado do quadrado: \"))\n",
    "areaQuad = lado ** 2\n",
    "dobroArea = areaQuad * 2\n",
    "print(dobroArea)"
   ]
  },
  {
   "cell_type": "markdown",
   "metadata": {},
   "source": [
    "<h5>3 Faça um Programa que pergunte quanto você ganha por hora e o número de horas\n",
    "trabalhadas no mês. Calcule e mostre o total do seu salário no referido mês.</h5>"
   ]
  },
  {
   "cell_type": "code",
   "execution_count": 26,
   "metadata": {},
   "outputs": [
    {
     "name": "stdout",
     "output_type": "stream",
     "text": [
      "Quanto você ganha por hora?: 10\n",
      "Quantas horas você trabalhou no mês?: 50\n",
      "Você irá ganhar: 500.0 R$ no mês referido\n"
     ]
    }
   ],
   "source": [
    "ganhoHora = float(input(\"Quanto você ganha por hora?: \"))\n",
    "horasMes = float(input(\"Quantas horas você trabalhou no mês?: \"))\n",
    "salario = ganhoHora * horasMes\n",
    "\n",
    "print(\"Você irá ganhar: \" + str(salario) + \" R$ no mês referido\")"
   ]
  },
  {
   "cell_type": "markdown",
   "metadata": {},
   "source": [
    "<h5>4 Faça um Programa que peça a temperatura em graus Farenheit, transforme e\n",
    "mostre a temperatura em graus Celsius. C = (5 * (F-32) / 9)..</h5>"
   ]
  },
  {
   "cell_type": "code",
   "execution_count": 31,
   "metadata": {},
   "outputs": [
    {
     "name": "stdout",
     "output_type": "stream",
     "text": [
      "Digite a temperatura em Farenheit: 60\n",
      "A temperatura informada em F° é igual a : 15.555555555555555 C°\n"
     ]
    }
   ],
   "source": [
    "f = float(input(\"Digite a temperatura em Farenheit: \"))\n",
    "c = (5*(f-32)/9)\n",
    "print(\"A temperatura informada em F° é igual a : \" + str(c) + \" C°\")"
   ]
  },
  {
   "cell_type": "markdown",
   "metadata": {},
   "source": [
    "<h5>5 Faça um Programa que peça a temperatura em graus Celsius, transforme e mostre\n",
    "em graus Farenheit.</h5>"
   ]
  },
  {
   "cell_type": "code",
   "execution_count": 32,
   "metadata": {},
   "outputs": [
    {
     "name": "stdout",
     "output_type": "stream",
     "text": [
      "Digite a temperatura em Celsius: 15.555555555555555\n",
      "A temperatura informada em C° é igual a : 60.0 F°\n"
     ]
    }
   ],
   "source": [
    "c2 = float(input(\"Digite a temperatura em Celsius: \"))\n",
    "f2 = (c2 * 1.8)+32\n",
    "print(\"A temperatura informada em C° é igual a : \" + str(f) + \" F°\")"
   ]
  },
  {
   "cell_type": "markdown",
   "metadata": {},
   "source": [
    "<h5>6 Faça um Programa que peça 2 números inteiros e um número real. Calcule e\n",
    "mostre:</h5><br>\n",
    "- o produto do dobro do primeiro com metade do segundo.<br>\n",
    "- a soma do triplo do primeiro com o terceiro.<br>\n",
    "- o terceiro elevado ao cubo."
   ]
  },
  {
   "cell_type": "code",
   "execution_count": 33,
   "metadata": {},
   "outputs": [
    {
     "name": "stdout",
     "output_type": "stream",
     "text": [
      "Digite um número inteiro: 2\n",
      "Digite mais um número inteiro: 4\n",
      "Digite um número Real: 8.8\n",
      "o produto do dobro do primeiro com metade do segundo: 8.0\n",
      " a soma do triplo do primeiro com o terceiro: 14.8\n",
      "o terceiro elevado ao cubo.681.4720000000002\n"
     ]
    }
   ],
   "source": [
    "in1 = int(input(\"Digite um número inteiro: \"))\n",
    "in2 = int(input(\"Digite mais um número inteiro: \"))\n",
    "flot = float(input(\"Digite um número Real: \"))\n",
    "a = ((in1*2)*(in2/2))\n",
    "b = ((3*in1) + flot)\n",
    "c = flot ** 3\n",
    "print(\"O produto do dobro do primeiro com metade do segundo: \" + str(a))\n",
    "print(\"A soma do triplo do primeiro com o terceiro: \" + str(b))\n",
    "print(\"O terceiro elevado ao cubo: \" + str(c))"
   ]
  },
  {
   "cell_type": "markdown",
   "metadata": {},
   "source": [
    "<h5>7 João Papo-de-Pescador, homem de bem, comprou um microcomputador para\n",
    "controlar o rendimento diário de seu trabalho. Toda vez que ele traz um peso de\n",
    "peixes maior que o estabelecido pelo regulamento de pesca do estado de São Paulo\n",
    "(50 quilos) deve pagar uma multa de R$ 4,00 por quilo excedente. João precisa que\n",
    "você faça um programa que leia a variável peso (peso de peixes) e verifique se há \n",
    "excesso. Se houver, gravar na variável excesso e na variável multa o valor da multa\n",
    "que João deverá pagar. Caso contrário mostrar tais variáveis com o conteúdo ZERO.</h5>"
   ]
  },
  {
   "cell_type": "code",
   "execution_count": 6,
   "metadata": {},
   "outputs": [
    {
     "name": "stdout",
     "output_type": "stream",
     "text": [
      "Digite o peso em quilos da pesca do dia: 51\n",
      "Quilos de excesso: 1\n",
      "Multa a pagar: 4 R$\n"
     ]
    }
   ],
   "source": [
    "peso = int(input(\"Digite o peso em quilos da pesca do dia: \"))\n",
    "exedente = peso - 50\n",
    "multa = 0;\n",
    "excesso = 0;\n",
    "if exedente > 0:\n",
    "    multa = exedente * 4\n",
    "    excesso = exedente\n",
    "print(\"Quilos de excesso: \" + str(excesso))\n",
    "print(\"Multa a pagar: \" + str(multa) + \" R$\")\n"
   ]
  },
  {
   "cell_type": "markdown",
   "metadata": {},
   "source": [
    "<h5>8 Faça um Programa que pergunte quanto você ganha por hora e o número de horas\n",
    "trabalhadas no mês. Calcule e mostre o total do seu salário no referido mês,\n",
    "sabendo-se que são descontados 11% para o Imposto de Renda, 8% para o INSS e 5%\n",
    "para o sindicato, faça um programa que nos dê: </h5><br>\n",
    "- salário bruto.<br>\n",
    "- quanto pagou ao INSS.<br>\n",
    "- quanto pagou ao sindicato.<br>\n",
    "- o salário líquido.<br>\n",
    "- calcule os descontos e o salário líquido, conforme a tabela abaixo: <br>\n",
    "+ Salário Bruto :  <br>\n",
    "- ir (11%) :  <br>\n",
    "- INSS (8%) :  <br>\n",
    "- Sindicato ( 5%) : <br>  \n",
    "= Salário Liquido :  <br>\n",
    "Obs.: Salário Bruto - Descontos = Salário Líquido"
   ]
  },
  {
   "cell_type": "code",
   "execution_count": 9,
   "metadata": {},
   "outputs": [
    {
     "name": "stdout",
     "output_type": "stream",
     "text": [
      "Quanto você ganha por hora?: 10\n",
      "Quantas horas você trabalhou no mês?: 100\n",
      "+ Salário Bruto: 1000.0\n",
      "- IR (11%): 110.0\n",
      "- INSS (8%): 80.0\n",
      "- Sindicato ( 5%): 50.0\n",
      "= Salário Liquido: 760.0\n"
     ]
    }
   ],
   "source": [
    "ganhoHora1 = float(input(\"Quanto você ganha por hora?: \"))\n",
    "horasMes1 = float(input(\"Quantas horas você trabalhou no mês?: \"))\n",
    "salarioBruto = ganhoHora1 * horasMes1\n",
    "impRenda = salarioBruto * 0.11\n",
    "inss = salarioBruto * 0.08\n",
    "sind = salarioBruto * 0.05\n",
    "salarioLiquido = salarioBruto - impRenda - inss - sind\n",
    "print(\"+ Salário Bruto: \" + str(salarioBruto))\n",
    "print(\"- IR (11%): \" + str(impRenda))\n",
    "print(\"- INSS (8%): \" + str(inss))\n",
    "print(\"- Sindicato ( 5%): \" + str(sind))\n",
    "print(\"= Salário Liquido: \" + str(salarioLiquido))"
   ]
  },
  {
   "cell_type": "markdown",
   "metadata": {},
   "source": [
    "<h5>9 Faça um programa que leia 2 strings e informe o conteúdo delas seguido do seu\n",
    "comprimento. Informe também se as duas strings possuem o mesmo comprimento e\n",
    "são iguais ou diferentes no conteúdo.</h5><br>\n",
    "Exemplo:<br>\n",
    "String 1: Brasil Hexa 2018<br>\n",
    "String 2: Brasil! Hexa 2018!<br>\n",
    "Tamanho de \"Brasil Hexa 2018\": 16 caracteres<br>\n",
    "Tamanho de \"Brasil! Hexa 2018!\": 18 caracteres<br>\n",
    "As duas strings são de tamanhos diferentes.<br>\n",
    "As duas strings possuem conteúdo diferente."
   ]
  },
  {
   "cell_type": "code",
   "execution_count": 12,
   "metadata": {},
   "outputs": [
    {
     "name": "stdout",
     "output_type": "stream",
     "text": [
      "Entre com uma string: fgfhrt\n",
      "Entre com uma string novamente: frtred\n",
      "String 1:fgfhrt\n",
      "String 2:frtred\n",
      "Tamanho de:fgfhrt é igual a 6\n",
      "Tamanho de:frtred é igual a 6\n",
      "As duas strings são de tamanhos iguais.\n",
      "As duas strings possuem conteúdo diferentes.\n"
     ]
    }
   ],
   "source": [
    "string1 = input(\"Entre com uma string: \")\n",
    "string2 = input(\"Entre com uma string novamente: \")\n",
    "t1 = len(string1)\n",
    "t2 = len(string2)\n",
    "print(\"String 1:\" + string1)\n",
    "print(\"String 2:\" + string2)\n",
    "print(\"Tamanho de:\" + string1 + \" é igual a \" + str(t1))\n",
    "print(\"Tamanho de:\" + string2 + \" é igual a \" + str(t2))\n",
    "if t1 == t2:\n",
    "    print(\"As duas strings são de tamanhos iguais.\")\n",
    "else:\n",
    "    print(\"As duas strings são de tamanhos diferentes.\")\n",
    "if string1 == string2:\n",
    "   print(\"As duas strings possuem conteúdo iguais.\")\n",
    "else:\n",
    "    print(\"As duas strings possuem conteúdo diferentes.\")"
   ]
  },
  {
   "cell_type": "markdown",
   "metadata": {},
   "source": [
    "<h5>10 Faça um programa que permita ao usuário digitar o seu nome e em seguida\n",
    "mostre o nome do usuário de trás para frente utilizando somente letras maiúsculas.\n",
    "Dica: lembre−se que ao informar o nome o usuário pode digitar letras maiúsculas ou\n",
    "minúsculas. Observação: não use loops.</h5>"
   ]
  },
  {
   "cell_type": "code",
   "execution_count": 24,
   "metadata": {},
   "outputs": [
    {
     "name": "stdout",
     "output_type": "stream",
     "text": [
      "Entre com o seu nome (letras maiúsculas ou minúsculas): Leonardo de Oliveira dourado\n",
      "ODARUOD ARIEVILO ED ODRANOEL\n"
     ]
    }
   ],
   "source": [
    "nomep = input(\"Entre com o seu nome (letras maiúsculas ou minúsculas): \")\n",
    "nomecap = nomep.upper()\n",
    "nomef =  nomecap[::-1]\n",
    "print(nomef)\n",
    "\n"
   ]
  },
  {
   "cell_type": "markdown",
   "metadata": {},
   "source": [
    "<h5>11 Faça um programa que solicite a data de nascimento (dd/mm/aaaa) do usuário e\n",
    "imprima a data com o nome do mês por extenso.</h5><br>\n",
    "Data de Nascimento: 29/10/1973<br>\n",
    "Você nasceu em 29 de Outubro de 1973.<br>\n",
    "Obs.: Não use desvio condicional nem loops."
   ]
  },
  {
   "cell_type": "code",
   "execution_count": 34,
   "metadata": {},
   "outputs": [
    {
     "name": "stdout",
     "output_type": "stream",
     "text": [
      "Entre com a data do seu nacimento (dd/mm/aaaa): 10/01/2019\n",
      "1\n",
      "Você nasceu em 10 de January de 2019\n"
     ]
    }
   ],
   "source": [
    "import calendar\n",
    "dtNacimento = input(\"Entre com a data do seu nacimento (dd/mm/aaaa): \")\n",
    "l = dtNacimento.split('/')\n",
    "print(int(l[1]))\n",
    "print(\"Você nasceu em \"+ str(l[0]) +\" de \"+ calendar.month_name[int(l[1])]+ \" de \" + str(l[2]))"
   ]
  },
  {
   "cell_type": "markdown",
   "metadata": {},
   "source": [
    "<h5>12 Leet é uma forma de se escrever o alfabeto latino usando outros símbolos em\n",
    "lugar das letras, como números por exemplo. A própria palavra leet admite muitas\n",
    "variações, como l33t ou 1337. O uso do leet reflete uma subcultura relacionada ao\n",
    "mundo dos jogos de computador e internet, sendo muito usada para confundir os\n",
    "iniciantes e afirmar-se como parte de um grupo. Pesquise sobre as principais formas\n",
    "de traduzir as letras. Depois, faça um programa que peça uma texto e transforme-o\n",
    "para a grafia leet speak.</h5><br>\n",
    "Desafio: não use loops nem desvios condicionais."
   ]
  },
  {
   "cell_type": "code",
   "execution_count": 58,
   "metadata": {},
   "outputs": [
    {
     "name": "stdout",
     "output_type": "stream",
     "text": [
      "Please enter a message: tESTE AC\n",
      "M3n$463M 3M 1337: 73$73 4¢\n"
     ]
    }
   ],
   "source": [
    "texto = input(\"Please enter a message: \")\n",
    "texto = texto.replace('a', '4')\n",
    "texto = texto.replace('b', '|8')\n",
    "texto = texto.replace('c', '¢')\n",
    "texto = texto.replace('d', '|)')\n",
    "texto = texto.replace('e', '3')\n",
    "texto = texto.replace('f', 'F')\n",
    "texto = texto.replace('g', 'g')\n",
    "texto = texto.replace('h', '|-|')\n",
    "texto = texto.replace('i', '!')\n",
    "texto = texto.replace('j', '_/')\n",
    "texto = texto.replace('k', '|<')\n",
    "texto = texto.replace('l', '1')\n",
    "texto = texto.replace('m', 'M')\n",
    "texto = texto.replace('n','И')\n",
    "texto = texto.replace('o','Ø')\n",
    "texto = texto.replace('p','|>')\n",
    "texto = texto.replace('q','9')\n",
    "texto = texto.replace('r','Я')\n",
    "texto = texto.replace('s','$')\n",
    "texto = texto.replace('t', '7')\n",
    "texto = texto.replace('u', 't')\n",
    "texto = texto.replace('v', '\\/')\n",
    "texto = texto.replace('w', 'Ш')\n",
    "texto = texto.replace('x', 'Ж')\n",
    "texto = texto.replace('y', '¥')\n",
    "texto = texto.replace('z', '2') \n",
    "\n",
    "texto = texto.replace('A', '4')\n",
    "texto = texto.replace('B','|8')\n",
    "texto = texto.replace('C','¢')\n",
    "texto = texto.replace('D','|)')\n",
    "texto = texto.replace('E','3')\n",
    "texto = texto.replace('F','F')\n",
    "texto = texto.replace('G','g')\n",
    "texto = texto.replace('H','|-|')\n",
    "texto = texto.replace('I','!')\n",
    "texto = texto.replace('J','_/')\n",
    "texto = texto.replace('K','|<')\n",
    "texto = texto.replace('L','1')\n",
    "texto = texto.replace('M','M')\n",
    "texto = texto.replace('N','И')\n",
    "texto = texto.replace('O','Ø')\n",
    "texto = texto.replace('P','|>')\n",
    "texto = texto.replace('Q','9')\n",
    "texto = texto.replace('R','Я')\n",
    "texto = texto.replace('S','$')\n",
    "texto = texto.replace('T','7')\n",
    "texto = texto.replace('U','t')\n",
    "texto = texto.replace('V','\\/')\n",
    "texto = texto.replace('W','Ш')\n",
    "texto = texto.replace('X','Ж')\n",
    "texto = texto.replace('Y','¥')\n",
    "texto = texto.replace('Z','2') \n",
    "print(\"M3n$463M 3M 1337: \" + texto)\n"
   ]
  }
 ],
 "metadata": {
  "kernelspec": {
   "display_name": "Python 3",
   "language": "python",
   "name": "python3"
  },
  "language_info": {
   "codemirror_mode": {
    "name": "ipython",
    "version": 3
   },
   "file_extension": ".py",
   "mimetype": "text/x-python",
   "name": "python",
   "nbconvert_exporter": "python",
   "pygments_lexer": "ipython3",
   "version": "3.7.1"
  }
 },
 "nbformat": 4,
 "nbformat_minor": 2
}
