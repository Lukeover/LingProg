{
 "cells": [
  {
   "cell_type": "markdown",
   "metadata": {},
   "source": [
    "## lists, dictionaries, tuples, sets, booleans, files\n",
    "LingProg - Lukas Barbosa de Oliveira - RA: 81714448 <br><br>\n",
    "\n",
    "1 Crie um programa que recebe uma lista de números e<br>\n",
    "- retorne o maior elemento<br>\n",
    "- retorne a soma dos elementos<br>\n",
    "- retorne o número de ocorrências do primeiro elemento da lista<br>\n",
    "- retorne a média dos elementos<br>\n",
    "- retorne o valor mais próximo da média dos elementos<br>\n",
    "- retorne a soma dos elementos com valor negativo<br>\n",
    "- retorne a quantidade de vizinhos iguais"
   ]
  },
  {
   "cell_type": "code",
   "execution_count": 35,
   "metadata": {},
   "outputs": [
    {
     "name": "stdout",
     "output_type": "stream",
     "text": [
      "o maior valor é: 345\n",
      "A soma dos elementos é 1473\n",
      "O número de ocorrências do primeiro elemento da lista é 3\n",
      "A media dos elementos da lista é 47.516129032258064\n",
      "O valor mais próximo da média é 45\n",
      "A soma dos elementos negativos é 0\n",
      "A quantidade de vizinhos iguais é 2\n"
     ]
    }
   ],
   "source": [
    "lista = [1,2,56,4,5,4,23,4,4,34,6,7,8,67,56,45,1,323,23,23,1,345,56,99,43,54,21,23,43,2,90]\n",
    "prox = 0\n",
    "auxprox = 0\n",
    "ele1 = lista[0]\n",
    "ocorrencias1 = 0\n",
    "i = 0\n",
    "media = 0\n",
    "list_sum = 0\n",
    "neg = 0\n",
    "vizinhos =0\n",
    "for num in lista:\n",
    "    list_sum += num\n",
    "    if num < 0:\n",
    "        neg += num\n",
    "    if num == ele1:\n",
    "        ocorrencias1+=1\n",
    "    if i+1 == len(lista):\n",
    "        pass\n",
    "    else:\n",
    "        if lista[i] == lista[i+1]:\n",
    "            vizinhos += 1\n",
    "    i+=1\n",
    "    media = list_sum/i\n",
    "\n",
    "for num in lista:\n",
    "    if abs(num-media) < abs(prox-media):\n",
    "        prox = num\n",
    "    \n",
    "print(f'o maior valor é: {max(lista)}')\n",
    "print(f'A soma dos elementos é {list_sum}')\n",
    "print(f'O número de ocorrências do primeiro elemento da lista é {ocorrencias1}')\n",
    "print(f'A media dos elementos da lista é {media}')\n",
    "print(f'O valor mais próximo da média é {prox}')\n",
    "print(f'A soma dos elementos negativos é {neg}')\n",
    "print(f'A quantidade de vizinhos iguais é {vizinhos}')"
   ]
  },
  {
   "cell_type": "markdown",
   "metadata": {},
   "source": [
    "<b>2 Faça um programa que receba duas listas e retorne True se são iguais ou False caso\n",
    "contrario.\n",
    "Duas listas são iguais se possuem os mesmos valores e na mesma ordem.</b>"
   ]
  },
  {
   "cell_type": "code",
   "execution_count": 37,
   "metadata": {},
   "outputs": [
    {
     "name": "stdout",
     "output_type": "stream",
     "text": [
      "As listas são diferentes\n"
     ]
    }
   ],
   "source": [
    "l1 = [23,34,3445,56,56,56,67,67,67,87,78,7,78,78,78,74,89,654,341,25]\n",
    "l2 = [23,34,3445,56,56,56,66,67,67,87,78,7,78,78,78,74,89,654,341,25]\n",
    "\n",
    "if l1 == l2:\n",
    "    print('As listas são iguais')\n",
    "else: \n",
    "    print('As listas são diferentes')"
   ]
  },
  {
   "cell_type": "markdown",
   "metadata": {},
   "source": [
    "<b>3 Faça um programa que receba duas listas e retorne True se têm os mesmos\n",
    "elementos ou False caso contrário.<br>Duas listas possuem os mesmos elementos quando são compostas pelos mesmos\n",
    "valores, mas não obrigatoriamente na mesma ordem.</b>"
   ]
  },
  {
   "cell_type": "code",
   "execution_count": 1,
   "metadata": {},
   "outputs": [
    {
     "name": "stdout",
     "output_type": "stream",
     "text": [
      "True - Listas possuem os mesmos elementos\n"
     ]
    }
   ],
   "source": [
    "l31 = [23,34,3445,56,56,56,67,67,67,87,78,7,78,78,78,74,89,654,341,25]\n",
    "l32 = [23,34,3445,56,56,56,66,67,67,87,78,7,78,78,78,74,89,654,341,25]\n",
    "cont = 0\n",
    "retorna = False\n",
    "for num in l31:\n",
    "    if num in l32:\n",
    "        cont+=1\n",
    "if cont == len(l32):\n",
    "    retorna = True\n",
    "    print(str(retorna) + ' - Listas possuem os mesmos elementos')\n",
    "else:\n",
    "    retorna = False\n",
    "    print(str(retorna) + ' - Listas não possuem os mesmos elementos')"
   ]
  },
  {
   "cell_type": "markdown",
   "metadata": {},
   "source": [
    "<b>4 Faça um programa que percorre uma lista com o seguinte formato: [['Brasil', 'Italia', [10, 9]], ['Brasil', 'Espanha', [5, 7]], ['Italia', 'Espanha', [7,8]]]. Essa lista indica o número de faltas que cada time fez em cada jogo. Na lista acima, no jogo entre Brasil e Itália, o Brasil fez 10 faltas e a Itália fez 9.<br>\n",
    "\n",
    "O programa deve imprimir na tela:</b><br>\n",
    "\n",
    "o total de faltas do campeonato.<br>\n",
    "o time que fez mais faltas.<br>\n",
    "o time que fez menos faltas."
   ]
  },
  {
   "cell_type": "code",
   "execution_count": 34,
   "metadata": {},
   "outputs": [
    {
     "name": "stdout",
     "output_type": "stream",
     "text": [
      "Total de faltas: 107\n",
      "Time com mais faltas: Espanha - 80  faltas\n",
      "Time com menos faltas: Italia - 12 faltas\n"
     ]
    }
   ],
   "source": [
    "l41 = [['Brasil', 'Italia', [10, 5]], ['Brasil', 'Espanha', [5, 60]], ['Italia', 'Espanha', [7,20]]]\n",
    "total = 0\n",
    "l42 = []\n",
    "i = 0\n",
    "\n",
    "while i < len(l41):\n",
    "    l42.append([l41[i]])\n",
    "    total += l41[i][2][0]\n",
    "    total += l41[i][2][1]\n",
    "    i+=1\n",
    "    \n",
    "time = {}\n",
    "for jogo in l41:\n",
    "    time[jogo[0]] = 0\n",
    "    time[jogo[1]] = 0\n",
    "\n",
    "\n",
    "for jogo in l41:\n",
    "    time[jogo[0]] += jogo[2][0]\n",
    "    time[jogo[1]] += jogo[2][1]\n",
    "\n",
    "\n",
    "key_list = list(time.keys()) \n",
    "timemaisfaltas = list(time.keys())[list(time.values()).index(max(time.values()))]\n",
    "quantmaisfaltas = str(max(time.values()))\n",
    "\n",
    "timemenosfaltas = list(time.keys())[list(time.values()).index(min(time.values()))]\n",
    "quantmenosfaltas = str(min(time.values()))\n",
    "\n",
    "print(\"Total de faltas: \" + str(total))    \n",
    "print(f'Time com mais faltas: {timemaisfaltas} - {quantmaisfaltas}  faltas')\n",
    "print(f'Time com menos faltas: {timemenosfaltas} - {quantmenosfaltas} faltas')\n",
    "    \n"
   ]
  },
  {
   "cell_type": "markdown",
   "metadata": {},
   "source": [
    "### Dicionários\n",
    "<br>\n",
    "<b>5 Escreva um programa que conta a quantidade de vogais em uma string e armazena\n",
    "tal quantidade em um dicionário, onde a chave é a vogal considerada.</b>"
   ]
  },
  {
   "cell_type": "code",
   "execution_count": 37,
   "metadata": {},
   "outputs": [
    {
     "name": "stdout",
     "output_type": "stream",
     "text": [
      "Quantidade de A's: 1\n",
      "Quantidade de E's: 3\n",
      "Quantidade de I's: 0\n",
      "Quantidade de O's: 3\n",
      "Quantidade de U's: 0\n"
     ]
    }
   ],
   "source": [
    "string = 'hello world de contagem'\n",
    "string = string.lower()\n",
    "\n",
    "vogais = 'aeiou'\n",
    "\n",
    "d = {}\n",
    "for letra in vogais:\n",
    "    d[letra] = 0\n",
    "    \n",
    "for letra in string:\n",
    "    if letra in vogais :\n",
    "        d[letra] += 1\n",
    "\n",
    "\n",
    "print(\"Quantidade de A's:\", d[\"a\"])\n",
    "print(\"Quantidade de E's:\", d[\"e\"])\n",
    "print(\"Quantidade de I's:\", d[\"i\"])\n",
    "print(\"Quantidade de O's:\", d[\"o\"])\n",
    "print(\"Quantidade de U's:\", d[\"u\"])"
   ]
  },
  {
   "cell_type": "markdown",
   "metadata": {},
   "source": [
    "<b>6 Escreva um programa que lê duas notas de vários alunos e armazena tais notas em\n",
    "um dicionário, onde a chave é o nome do aluno. A entrada de dados deve terminar\n",
    "quando for lida uma string vazia como nome. Escreva uma função que retorna a\n",
    "média do aluno, dado seu nome.</b>"
   ]
  },
  {
   "cell_type": "code",
   "execution_count": 40,
   "metadata": {},
   "outputs": [
    {
     "name": "stdout",
     "output_type": "stream",
     "text": [
      "Insira o nome do aluno: lukas\n",
      "Insira a primeira nota: 8\n",
      "Insira a segunda nota: 7\n",
      "Insira o nome do aluno: joao\n",
      "Insira a primeira nota: 6\n",
      "Insira a segunda nota: 9\n",
      "Insira o nome do aluno: maria\n",
      "Insira a primeira nota: 6\n",
      "Insira a segunda nota: 7\n",
      "Insira o nome do aluno: \n",
      "Insira o nome do aluno o qual deseja ver a média: maria\n"
     ]
    },
    {
     "data": {
      "text/plain": [
       "6.5"
      ]
     },
     "execution_count": 40,
     "metadata": {},
     "output_type": "execute_result"
    }
   ],
   "source": [
    "d6 = {}\n",
    "i = 0\n",
    "nome6 = input(\"Insira o nome do aluno: \")\n",
    "while nome6 != \"\":\n",
    "    d6[nome6] = [\n",
    "        float(input(\"Insira a primeira nota: \")),\n",
    "        float(input(\"Insira a segunda nota: \"))\n",
    "    ]\n",
    "    nome6 = input(\"Insira o nome do aluno (ou enter para parar): \")\n",
    "\n",
    "def media(nome6):\n",
    "    return (d6[nome6][0] + d6[nome6][1]) / 2\n",
    "\n",
    "media(input(\"Insira o nome do aluno o qual deseja ver a média: \"))"
   ]
  },
  {
   "cell_type": "markdown",
   "metadata": {},
   "source": [
    "<b>7 Uma pista de Kart permite 10 voltas para cada um de 6 corredores. Escreva um\n",
    "programa que leia todos os tempos em segundos e os guarde em um dicionário,\n",
    "onde a chave é o nome do corredor. Ao final diga de quem foi a melhor volta da\n",
    "prova e em que volta; e ainda a classificação final em ordem (1o o campeão). O\n",
    "campeão é o que tem a menor média de tempos.</b>"
   ]
  },
  {
   "cell_type": "code",
   "execution_count": 42,
   "metadata": {},
   "outputs": [
    {
     "name": "stdout",
     "output_type": "stream",
     "text": [
      "1° lugar: Batista - 59.9 segs.\n",
      "2° lugar: Amélio - 60.6 segs.\n",
      "3° lugar: Joao - 60.8 segs.\n",
      "4° lugar: Marcos - 61.2 segs.\n",
      "5° lugar: Francisco - 61.6 segs.\n",
      "6° lugar: Rodolfo - 63.8 segs.\n"
     ]
    }
   ],
   "source": [
    "import operator\n",
    "\n",
    "dic = {\n",
    "    \"Amélio\": [57, 58, 60, 56, 64, 70, 59, 58, 69, 55],\n",
    "    \"Joao\": [56, 60, 72, 50, 67, 58, 61, 63, 62, 59],\n",
    "    \"Batista\": [79, 52, 58, 48, 58, 59, 61, 65, 59, 60],\n",
    "    \"Rodolfo\": [56, 50, 55, 70, 85, 73, 68, 65, 56, 60],\n",
    "    \"Marcos\": [69, 55, 67, 50, 52, 53, 70, 75, 65, 56],\n",
    "    \"Francisco\": [56, 63, 63, 65, 70, 59, 55, 60, 63, 62]\n",
    "}\n",
    "\n",
    "volta = 0\n",
    "medias = dic\n",
    "nome = \"\"\n",
    "melhorVolta = dic[\"Amélio\"][0]\n",
    "for chave in dic:\n",
    "    soma = 0\n",
    "    for num in dic[chave]:\n",
    "        if num < melhorVolta:\n",
    "            melhorVolta = num\n",
    "            nome = chave\n",
    "        soma += num\n",
    "    medias[chave] = soma / 10\n",
    "\n",
    "#itemgeter 1 é a pos do valor do medias.items()\n",
    "sort = sorted(medias.items(), key=operator.itemgetter(1))\n",
    "for i in range(0, 6):\n",
    "    print(\"%s° lugar: %s - %s segs.\" % (i + 1, sort[i][0], sort[i][1]))"
   ]
  },
  {
   "cell_type": "markdown",
   "metadata": {},
   "source": [
    "<b>8 Escreva um programa para armazenar uma agenda de telefones em um dicionário.\n",
    "Cada pessoa pode ter um ou mais telefones e a chave do dicionário é o nome da\n",
    "pessoa. Seu programa deve ter as seguintes funções:<br></b>\n",
    "- incluirNovoNome – essa função acrescenta um novo nome na agenda, com um ou\n",
    "mais telefones. Ela deve receber como argumentos o nome e os telefones.<br>\n",
    "- incluirTelefone – essa função acrescenta um telefone em um nome existente na\n",
    "agenda. Caso o nome não exista na agenda, você̂deve perguntar se a pessoa deseja\n",
    "inclui-lo. Caso a resposta seja afirmativa, use a função anterior para incluir o novo\n",
    "nome.<br>\n",
    "- excluirTelefone – essa função exclui um telefone de uma pessoa que já está na\n",
    "agenda. Se a pessoa tiver apenas um telefone, ela deve ser excluída da agenda.\n",
    "- excluirNome – essa função exclui uma pessoa da agenda.<br>\n",
    "- consultarTelefone – essa função retorna os telefones de uma pessoa na agenda."
   ]
  },
  {
   "cell_type": "code",
   "execution_count": 44,
   "metadata": {},
   "outputs": [
    {
     "name": "stdout",
     "output_type": "stream",
     "text": [
      "\n",
      "Escolha uma opção: \n",
      "1 - Incluir Novo Nome\n",
      "2 - Incluir Telefone\n",
      "3 - Excluir Telefone\n",
      "4 - Consultar Agenda\n",
      "0 - Encerrar Programa\n",
      "1\n",
      "Insira o nome da pessoa: lukas\n",
      "Insira um telefone da pessoa: 11951540387\n",
      "Inserir outro telefone (ou digite 0 para parar): 11020033382\n",
      "Inserir outro telefone (ou digite 0 para parar): 0\n",
      "\n",
      "Escolha uma opção: \n",
      "1 - Incluir Novo Nome\n",
      "2 - Incluir Telefone\n",
      "3 - Excluir Telefone\n",
      "4 - Consultar Agenda\n",
      "0 - Encerrar Programa\n",
      "4\n",
      "Insira o nome da pessoa: lukas\n",
      "[11951540387, 11020033382]\n",
      "\n",
      "Escolha uma opção: \n",
      "1 - Incluir Novo Nome\n",
      "2 - Incluir Telefone\n",
      "3 - Excluir Telefone\n",
      "4 - Consultar Agenda\n",
      "0 - Encerrar Programa\n",
      "0\n"
     ]
    }
   ],
   "source": [
    "agenda = {}\n",
    "\n",
    "def incluirNovoNome(nome, telefones):\n",
    "    global agenda\n",
    "    agenda[nome] = telefones\n",
    "    \n",
    "def incluirTelefone(nome, telefone):\n",
    "    global agenda\n",
    "    if nome in agenda.keys():\n",
    "        agenda[nome].append(telefone)\n",
    "    else:\n",
    "        if input(\"Essa pessoa não existe, incluir ela na agenda (s/n)? \") == \"s\":\n",
    "            telefones = [telefone]\n",
    "            incluirNovoNome(nome, telefones)\n",
    "            \n",
    "def excluirTelefone(nome, telefone):\n",
    "    global agenda\n",
    "    if nome in agenda.keys():\n",
    "        if len(agenda[nome]) == 1:\n",
    "            del agenda[nome]\n",
    "        else:\n",
    "            for num in range(0, len(agenda[nome]) - 1):\n",
    "                if telefone == agenda[nome][num]:\n",
    "                    agenda[nome].pop(num)\n",
    "        \n",
    "def consultarTelefone(nome):\n",
    "    global agenda\n",
    "    if nome in agenda.keys():\n",
    "        print(agenda[nome])\n",
    "    \n",
    "opcao = -1\n",
    "while opcao != 0:\n",
    "    opcao = int(input(\"\\nEscolha uma opção: \\n1 - Incluir Novo Nome\\n2 - Incluir Telefone\\n3 - Excluir Telefone\\n4 - Consultar Agenda\\n0 - Encerrar Programa\\n\"))\n",
    "    \n",
    "    # INSERIR NOVO NOME\n",
    "    if opcao == 1:\n",
    "        nome = input(\"Insira o nome da pessoa: \")\n",
    "        telefones = []\n",
    "        telefones.append(int(input(\"Insira um telefone da pessoa: \")))\n",
    "        telefone = -1\n",
    "        while telefone != 0:\n",
    "            telefone = int(input(\"Inserir outro telefone (ou digite 0 para parar): \"))\n",
    "            if telefone != 0:\n",
    "                telefones.append(telefone)\n",
    "        incluirNovoNome(nome, telefones)\n",
    "    # INCLUIR TELEFONE\n",
    "    elif opcao == 2:\n",
    "        nome = input(\"Insira o nome da pessoa: \")\n",
    "        telefone = int(input(\"Insira um novo telefone da pessoa: \"))\n",
    "        incluirTelefone(nome, telefone)\n",
    "    # EXCLUIR TELEFONE\n",
    "    elif opcao == 3:\n",
    "        nome = input(\"Insira o nome da pessoa: \")\n",
    "        telefone = int(input(\"Insira o telefone da pessoa a qual deseja excluir: \"))\n",
    "        excluirTelefone(nome, telefone)\n",
    "    elif opcao == 4:\n",
    "        consultarTelefone(input(\"Insira o nome da pessoa: \"))"
   ]
  },
  {
   "cell_type": "markdown",
   "metadata": {},
   "source": [
    "### Arquivos\n",
    "<b>9 Faça um programa que leia um arquivo texto contendo uma lista de endereços IP e\n",
    "gere um outro arquivo, contendo um relatório dos endereços IP válidos e inválidos.</b><br><br>\n",
    "O arquivo de entrada possui o seguinte formato:<br>\n",
    "200.135.80.9<br>\n",
    "192.168.1.1<br>\n",
    "8.35.67.74<br>\n",
    "257.32.4.5<br>\n",
    "85.345.1.2<br>\n",
    "1.2.3.4<br>\n",
    "9.8.234.5<br>\n",
    "192.168.0.256<br><br>\n",
    "O arquivo de saída possui o seguinte formato:<br>\n",
    "[Endereços válidos:]<br>\n",
    "200.135.80.9<br>\n",
    "192.168.1.1<br>\n",
    "8.35.67.74<br>\n",
    "1.2.3.4<br><br>\n",
    "[Endereços inválidos:]<br>\n",
    "257.32.4.5<br>\n",
    "85.345.1.2<br>\n",
    "9.8.234.5<br>\n",
    "192.168.0.256<br>"
   ]
  },
  {
   "cell_type": "code",
   "execution_count": 46,
   "metadata": {},
   "outputs": [],
   "source": [
    "import socket\n",
    "\n",
    "ipsValidos = []\n",
    "ipsInvalidos = []\n",
    "\n",
    "ips = open(\"l2ex9ips.txt\")\n",
    "for ip in ips:\n",
    "    try:\n",
    "        socket.inet_aton(ip)\n",
    "        # Validos\n",
    "        ipsValidos.append(ip)\n",
    "    except socket.error:\n",
    "        # Invalidos\n",
    "        ipsInvalidos.append(ip)\n",
    "        \n",
    "ips.close()\n",
    "\n",
    "saida = open(\"l2ex9ipsvalidados.txt\", \"w+\")\n",
    "\n",
    "saida.write(\"[Endereços válidos:]\\n\")\n",
    "for ip in ipsValidos:\n",
    "    saida.write(ip)\n",
    "    \n",
    "saida.write(\"[Endereços inválidos:]\\n\")\n",
    "for ip in ipsInvalidos:\n",
    "    saida.write(ip)\n",
    "    \n",
    "saida.close()"
   ]
  },
  {
   "cell_type": "markdown",
   "metadata": {},
   "source": [
    "<b>10 A ACME Inc., uma empresa de 500 funcionários, está tendo problemas de espaço em disco no seu servidor de arquivos. Para tentar resolver este problema, o Administrador de Rede precisa saber qual o espaço ocupado pelos usuários, e identificar os usuários com maior espaço ocupado. Através de um programa, baixado da Internet, ele conseguiu gerar o seguinte arquivo, chamado \"usuarios.txt\":</b><br><br>\n",
    "\n",
    "alexandre 456123789<br>\n",
    "anderson 1245698456<br>\n",
    "antonio 123456456<br>\n",
    "carlos 91257581<br>\n",
    "cesar 987458<br>\n",
    "rosemary 789456125<br>\n",
    "<br>\n",
    "Neste arquivo, o nome do usuário possui 15 caracteres. A partir deste arquivo, você deve criar um programa que gere um relatório, chamado \"relatório.txt\", no seguinte formato:<br><br>\n",
    "\n",
    "ACME Inc. Uso do espaço em disco pelos usuários\n",
    "--------------------------------------------------------------\n",
    "----------\n",
    "Nr. Usuário Espaço utilizado % do uso<br>\n",
    "1 alexandre 434,99 MB 16,85%<br>\n",
    "2 anderson 1187,99 MB 46,02%<br>\n",
    "3 antonio 117,73 MB 4,56%<br>\n",
    "4 carlos 87,03 MB 3,37%<br>\n",
    "5 cesar 0,94 MB 0,04%<br>\n",
    "6 rosemary 752,88 MB 29,16%<br>\n",
    "Espaço total ocupado: 2581,57 MB<br>\n",
    "Espaço médio ocupado: 430,26 MB<br><br>\n",
    "\n",
    "O arquivo de entrada deve ser lido uma única vez, e os dados armazenados em memória, caso sejam necessários, de forma a agilizar a execução do programa. A conversão da espaço ocupado em disco, de bytes para megabytes deverá ser feita através de uma função separada, que será chamada pelo programa principal. O cálculo do percentual de uso também deverá ser feito através de uma função, que será chamada pelo programa principal."
   ]
  },
  {
   "cell_type": "code",
   "execution_count": 47,
   "metadata": {},
   "outputs": [],
   "source": [
    "def paraMb(tamanho):\n",
    "    return float(tamanho / (1024*1024))\n",
    "\n",
    "def usoMemoria(tamanho, total):\n",
    "    return float(tamanho / total) * 100\n",
    "\n",
    "dic = {}\n",
    "total = 0\n",
    "usuarios = open(\"l2ex10usuarios.txt\")\n",
    "for usuario in usuarios:\n",
    "    nome, memoria = usuario.split(\" \")\n",
    "    dic[nome] = int(memoria)\n",
    "    total += int(memoria)\n",
    "usuarios.close()\n",
    "media = total / len(dic.keys())\n",
    "\n",
    "relatorio = open(\"l2ex10relatório.txt\", \"w+\")\n",
    "relatorio.write(\"ACME Inc.               Uso do espaço em disco pelos usuários.\\n\")\n",
    "relatorio.write(\"--------------------------------------------------------------\\n\")\n",
    "relatorio.write(\"Nr.\\tUsuário \\tEspaço utilizado\\t% do uso\\n\")\n",
    "\n",
    "nr = 1\n",
    "for usuario in dic:\n",
    "    relatorio.write(str(nr) + \"\\t\" + usuario + \"\\t\" + \"{0:.2f}\".format(paraMb(dic[usuario])) + \" MB\\t\\t\" + \"{0:.2f}\".format(usoMemoria(dic[usuario], total)) + \"%\\n\")\n",
    "    nr += 1\n",
    "    \n",
    "\n",
    "relatorio.write(\"Espaço total ocupado: \" + \"{0:.2f}\".format(paraMb(total)) + \"\\n\")\n",
    "relatorio.write(\"Espaço médio ocupado: \" + \"{0:.2f}\".format(paraMb(media)))\n",
    "\n",
    "relatorio.close()"
   ]
  }
 ],
 "metadata": {
  "kernelspec": {
   "display_name": "Python 3",
   "language": "python",
   "name": "python3"
  },
  "language_info": {
   "codemirror_mode": {
    "name": "ipython",
    "version": 3
   },
   "file_extension": ".py",
   "mimetype": "text/x-python",
   "name": "python",
   "nbconvert_exporter": "python",
   "pygments_lexer": "ipython3",
   "version": "3.7.1"
  }
 },
 "nbformat": 4,
 "nbformat_minor": 2
}
