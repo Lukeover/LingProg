{
 "cells": [
  {
   "cell_type": "markdown",
   "metadata": {},
   "source": [
    "## lists, dictionaries, tuples, sets, booleans, files\n",
    "LingProg - Lukas Barbosa de Oliveira - RA: 81714448 <br><br>\n",
    "\n",
    "1 Crie um programa que recebe uma lista de números e<br>\n",
    "- retorne o maior elemento<br>\n",
    "- retorne a soma dos elementos<br>\n",
    "- retorne o número de ocorrências do primeiro elemento da lista<br>\n",
    "- retorne a média dos elementos<br>\n",
    "- retorne o valor mais próximo da média dos elementos<br>\n",
    "- retorne a soma dos elementos com valor negativo<br>\n",
    "- retorne a quantidade de vizinhos iguais"
   ]
  },
  {
   "cell_type": "code",
   "execution_count": 35,
   "metadata": {},
   "outputs": [
    {
     "name": "stdout",
     "output_type": "stream",
     "text": [
      "o maior valor é: 345\n",
      "A soma dos elementos é 1473\n",
      "O número de ocorrências do primeiro elemento da lista é 3\n",
      "A media dos elementos da lista é 47.516129032258064\n",
      "O valor mais próximo da média é 45\n",
      "A soma dos elementos negativos é 0\n",
      "A quantidade de vizinhos iguais é 2\n"
     ]
    }
   ],
   "source": [
    "lista = [1,2,56,4,5,4,23,4,4,34,6,7,8,67,56,45,1,323,23,23,1,345,56,99,43,54,21,23,43,2,90]\n",
    "prox = 0\n",
    "auxprox = 0\n",
    "ele1 = lista[0]\n",
    "ocorrencias1 = 0\n",
    "i = 0\n",
    "media = 0\n",
    "list_sum = 0\n",
    "neg = 0\n",
    "vizinhos =0\n",
    "for num in lista:\n",
    "    list_sum += num\n",
    "    if num < 0:\n",
    "        neg += num\n",
    "    if num == ele1:\n",
    "        ocorrencias1+=1\n",
    "    if i+1 == len(lista):\n",
    "        pass\n",
    "    else:\n",
    "        if lista[i] == lista[i+1]:\n",
    "            vizinhos += 1\n",
    "    i+=1\n",
    "    media = list_sum/i\n",
    "\n",
    "for num in lista:\n",
    "    if abs(num-media) < abs(prox-media):\n",
    "        prox = num\n",
    "    \n",
    "print(f'o maior valor é: {max(lista)}')\n",
    "print(f'A soma dos elementos é {list_sum}')\n",
    "print(f'O número de ocorrências do primeiro elemento da lista é {ocorrencias1}')\n",
    "print(f'A media dos elementos da lista é {media}')\n",
    "print(f'O valor mais próximo da média é {prox}')\n",
    "print(f'A soma dos elementos negativos é {neg}')\n",
    "print(f'A quantidade de vizinhos iguais é {vizinhos}')"
   ]
  },
  {
   "cell_type": "markdown",
   "metadata": {},
   "source": [
    "<b>2 Faça um programa que receba duas listas e retorne True se são iguais ou False caso\n",
    "contrario.\n",
    "Duas listas são iguais se possuem os mesmos valores e na mesma ordem.</b>"
   ]
  },
  {
   "cell_type": "code",
   "execution_count": 37,
   "metadata": {},
   "outputs": [
    {
     "name": "stdout",
     "output_type": "stream",
     "text": [
      "As listas são diferentes\n"
     ]
    }
   ],
   "source": [
    "l1 = [23,34,3445,56,56,56,67,67,67,87,78,7,78,78,78,74,89,654,341,25]\n",
    "l2 = [23,34,3445,56,56,56,66,67,67,87,78,7,78,78,78,74,89,654,341,25]\n",
    "\n",
    "if l1 == l2:\n",
    "    print('As listas são iguais')\n",
    "else: \n",
    "    print('As listas são diferentes')"
   ]
  },
  {
   "cell_type": "markdown",
   "metadata": {},
   "source": [
    "<b>3 Faça um programa que receba duas listas e retorne True se têm os mesmos\n",
    "elementos ou False caso contrário.<br>Duas listas possuem os mesmos elementos quando são compostas pelos mesmos\n",
    "valores, mas não obrigatoriamente na mesma ordem.</b>"
   ]
  },
  {
   "cell_type": "code",
   "execution_count": 4,
   "metadata": {},
   "outputs": [
    {
     "name": "stdout",
     "output_type": "stream",
     "text": [
      "True - Listas possuem os mesmos elementos\n"
     ]
    }
   ],
   "source": [
    "l31 = [23,34,3445,56,56,56,67,67,67,87,78,7,78,78,78,74,89,654,341,25]\n",
    "l32 = [23,34,3445,56,56,56,66,67,67,87,78,7,78,78,78,74,89,654,341,25]\n",
    "cont = 0\n",
    "retorna = False\n",
    "for num in l31:\n",
    "    if num in l32:\n",
    "        cont+=1\n",
    "if cont == len(l32):\n",
    "    retorna = True\n",
    "    print(str(retorna) + ' - Listas possuem os mesmos elementos')\n",
    "else:\n",
    "    retorna = False\n",
    "    print(str(retorna) + ' - Listas não possuem os mesmos elementos')"
   ]
  },
  {
   "cell_type": "markdown",
   "metadata": {},
   "source": [
    "<b>4 Faça um programa que percorre uma lista com o seguinte formato: [['Brasil',\n",
    "'Italia', [10, 9]], ['Brasil', 'Espanha', [5, 7]], ['Italia', 'Espanha', [7,8]]]. Essa lista indica o\n",
    "número de faltas que cada time fez em cada jogo. Na lista acima, no jogo entre Brasil\n",
    "e Itália, o Brasil fez 10 faltas e a Itália fez 9.<br><br>\n",
    "O programa deve imprimir na tela:<br>\n",
    "- o total de faltas do campeonato<br>\n",
    "- o time que fez mais faltas<br>\n",
    "- o time que fez menos faltas.</b>"
   ]
  },
  {
   "cell_type": "code",
   "execution_count": 13,
   "metadata": {},
   "outputs": [
    {
     "name": "stdout",
     "output_type": "stream",
     "text": [
      "46\n"
     ]
    }
   ],
   "source": [
    "l41 = [['Brasil', 'Italia', [10, 9]], ['Brasil', 'Espanha', [5, 7]], ['Italia', 'Espanha', [7,8]]]\n",
    "total = 0\n",
    "l42 = []\n",
    "i = 0\n",
    "\n",
    "while i < len(l41):\n",
    "    l42.append([l41[i]])\n",
    "    total += l41[i][2][0]\n",
    "    total += l41[i][2][1]\n",
    "    i+=1\n",
    "print(total)"
   ]
  }
 ],
 "metadata": {
  "kernelspec": {
   "display_name": "Python 3",
   "language": "python",
   "name": "python3"
  },
  "language_info": {
   "codemirror_mode": {
    "name": "ipython",
    "version": 3
   },
   "file_extension": ".py",
   "mimetype": "text/x-python",
   "name": "python",
   "nbconvert_exporter": "python",
   "pygments_lexer": "ipython3",
   "version": "3.7.1"
  }
 },
 "nbformat": 4,
 "nbformat_minor": 2
}
