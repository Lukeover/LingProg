{
 "cells": [
  {
   "cell_type": "markdown",
   "metadata": {},
   "source": [
    "## If, elif, else – for – while – operadores – list comprehensions\n",
    "LingProg - Lukas Barbosa de Oliveira - RA: 81714448 <br><br>\n",
    "\n",
    "1. Faça um Programa que peça dois números e imprima o maior deles."
   ]
  },
  {
   "cell_type": "code",
   "execution_count": 1,
   "metadata": {},
   "outputs": [
    {
     "name": "stdout",
     "output_type": "stream",
     "text": [
      "Insira um número: 90\n",
      "Insira um outro número: 67\n",
      "O maior número é o 90\n"
     ]
    }
   ],
   "source": [
    "n1 = int(input('Insira um número: '))\n",
    "n2 = int(input('Insira um outro número: '))\n",
    "\n",
    "if n1>n2:\n",
    "    print(f'O maior número é o {n1}')\n",
    "elif n2>n1:\n",
    "    print(f'O maior número é o {n2}')\n",
    "else:\n",
    "    print('Números iguais')\n",
    "    "
   ]
  },
  {
   "cell_type": "markdown",
   "metadata": {},
   "source": [
    "<b>2. Faça um Programa que verifique se uma letra digitada é vogal ou consoante.</b>"
   ]
  },
  {
   "cell_type": "code",
   "execution_count": 5,
   "metadata": {},
   "outputs": [
    {
     "name": "stdout",
     "output_type": "stream",
     "text": [
      "digite uma letra: u\n",
      "A letra u é uma vogal\n"
     ]
    }
   ],
   "source": [
    "vogais = 'aeiou'\n",
    "letra = input('digite uma letra: ')\n",
    "\n",
    "if letra in vogais:\n",
    "    print(f'A letra {letra} é uma vogal')\n",
    "else:\n",
    "    print(f'A letra {letra} é uma consoante')"
   ]
  },
  {
   "cell_type": "markdown",
   "metadata": {},
   "source": [
    "<b>3. Faça um programa para a leitura de duas notas parciais de um aluno. O programa\n",
    "deve calcular a média alcançada por aluno e apresentar:</b><br>\n",
    "- A mensagem \"Aprovado\", se a média alcançada for maior ou igual a sete;<br>\n",
    "- A mensagem \"Reprovado\", se a média for menor do que sete;<br>\n",
    "- A mensagem \"Aprovado com Distinção\", se a média for igual a dez."
   ]
  },
  {
   "cell_type": "code",
   "execution_count": 12,
   "metadata": {},
   "outputs": [
    {
     "name": "stdout",
     "output_type": "stream",
     "text": [
      "Insira a primeira nota parcial: 5\n",
      "Insira a segunda nota parcial: 10\n",
      "Média: 7.5 - APROVADO\n"
     ]
    }
   ],
   "source": [
    "nota1 = float(input('Insira a primeira nota parcial: '))\n",
    "nota2 = float(input('Insira a segunda nota parcial: '))\n",
    "\n",
    "media = (nota1+nota2)/2\n",
    "\n",
    "if media >= 7 and media < 10:\n",
    "    print(f'Média: {media} - APROVADO')\n",
    "elif media < 7:\n",
    "    print(f'Média: {media} - REPROVADO')\n",
    "elif media == 10:\n",
    "    print(f'Média: {media} - Aprovado com Distinção')\n"
   ]
  },
  {
   "cell_type": "markdown",
   "metadata": {},
   "source": [
    "<b>4. Faça um Programa que leia três números e mostre-os em ordem decrescente.</b>"
   ]
  },
  {
   "cell_type": "code",
   "execution_count": 20,
   "metadata": {},
   "outputs": [
    {
     "name": "stdout",
     "output_type": "stream",
     "text": [
      "Insira um número: 58\n",
      "Insira um segundo número: 34\n",
      "Insira um terceiro número: 68\n",
      "Ordem decrecente: 68 58 34\n"
     ]
    }
   ],
   "source": [
    "n41 = int(input('Insira um número: '))\n",
    "n42 = int(input('Insira um segundo número: '))\n",
    "n43 = int(input('Insira um terceiro número: '))\n",
    "\n",
    "if n41 > n42 and n41 >n43:\n",
    "    if n42 > n43:\n",
    "        print(f'Ordem decrecente: {n41} {n42} {n43}')\n",
    "    else:\n",
    "        print(f'Ordem decrecente: {n41} {n43} {n42}')\n",
    "        \n",
    "elif n42 > n41 and n42 >n43:\n",
    "    if n41 > n43:\n",
    "        print(f'Ordem decrecente: {n42} {n41} {n43}')\n",
    "    else:\n",
    "        print(f'Ordem decrecente: {n42} {n43} {n41}')\n",
    "        \n",
    "elif n43 > n41 and n43 >n42:\n",
    "    if n41 > n42:\n",
    "        print(f'Ordem decrecente: {n43} {n41} {n42}')\n",
    "    else:\n",
    "        print(f'Ordem decrecente: {n43} {n42} {n41}')"
   ]
  },
  {
   "cell_type": "markdown",
   "metadata": {},
   "source": [
    "<b>\n",
    "5: As Organizações Tabajara resolveram dar um aumento de salário aos seus colaboradores e lhe contrataram para desenvolver o programa que calculará os reajustes. Faça um programa que recebe o salário de um colaborador e o reajuste segundo o seguinte critério, baseado no salário atual:</b><br>\n",
    "\n",
    " salários até RS 280,00 (incluindo) : aumento de 20%<br>\n",
    " salários entre RS 280,00 e RS 700,00 : aumento de 15%<br>\n",
    " salários entre RS 700,00 e RS 1500,00 : aumento de 10%<br>\n",
    " salários de RS 1500,00 em diante : aumento de 5porcento<br>\n",
    "Após o aumento ser realizado, informe na tela:<br><br>\n",
    "\n",
    "- o salário antes do reajuste;<br>\n",
    "- o percentual de aumento aplicado;<br>\n",
    "- o valor do aumento;<br>\n",
    "- o novo salário, após o aumento."
   ]
  },
  {
   "cell_type": "code",
   "execution_count": 21,
   "metadata": {},
   "outputs": [
    {
     "name": "stdout",
     "output_type": "stream",
     "text": [
      "Insira o salário: 800\n",
      "Salário antes do reajuste: 800.0\n",
      "Percentual de aumento aplicado: 10.0%\n",
      "Valor do aumento: 80.0\n",
      "Novo salário: 880.0\n"
     ]
    }
   ],
   "source": [
    "salario = float(input('Insira o salário: '))\n",
    "if salario <= 280:\n",
    "    percentual = 0.20\n",
    "elif salario > 280 and salario <= 700:\n",
    "    percentual = 0.15\n",
    "elif salario > 700 and salario <= 1500:\n",
    "    percentual = 0.10\n",
    "else:\n",
    "    percentual = 0.05\n",
    "novoSalario = salario + (salario * percentual)\n",
    "\n",
    "print('Salário antes do reajuste:', salario)\n",
    "print(f'Percentual de aumento aplicado: {percentual * 100}%')\n",
    "print('Valor do aumento:', salario * percentual)\n",
    "print('Novo salário:', novoSalario)"
   ]
  },
  {
   "cell_type": "markdown",
   "metadata": {},
   "source": [
    "<b>6. Faça um Programa que leia um número e exiba o dia correspondente da semana.\n",
    "(1-Domingo, 2- Segunda, etc.), se digitar outro valor deve aparecer valor inválido.\n",
    "</b>"
   ]
  },
  {
   "cell_type": "code",
   "execution_count": 11,
   "metadata": {},
   "outputs": [
    {
     "name": "stdout",
     "output_type": "stream",
     "text": [
      "Digite um número de 1 a 7: 2\n",
      "Segunda\n"
     ]
    }
   ],
   "source": [
    "dia6 = int(input('Digite um número de 1 a 7: '))\n",
    "if dia6 == 1:\n",
    "    print('Domingo')\n",
    "elif dia6 == 2:\n",
    "     print('Segunda')\n",
    "elif dia6 == 3:\n",
    "     print('Terça')\n",
    "elif dia6 == 4:\n",
    "     print('Quarta')\n",
    "elif dia6 == 5:\n",
    "     print('Quinta')\n",
    "elif dia6 == 6:\n",
    "     print('Sexta')\n",
    "else:\n",
    "     print('Valor inválido')"
   ]
  },
  {
   "cell_type": "markdown",
   "metadata": {},
   "source": [
    "<b>7. Faça um programa que lê as duas notas parciais obtidas por um aluno numa\n",
    "disciplina ao longo de um semestre, e calcule a sua média. A atribuição de conceitos\n",
    "obedece à tabela abaixo:</b><br><br>\n",
    " Média de Aproveitamento Conceito<br>\n",
    " Entre 9.0 e 10.0 A<br>\n",
    " Entre 7.5 e 9.0 B<br>\n",
    " Entre 6.0 e 7.5 C<br>\n",
    " Entre 4.0 e 6.0 D<br>\n",
    " Entre 4.0 e zero E<br><br>\n",
    "O algoritmo deve mostrar na tela as notas, a média, o conceito correspondente e a\n",
    "mensagem “APROVADO” se o conceito for A, B ou C ou “REPROVADO” se o conceito\n",
    "for D ou E."
   ]
  },
  {
   "cell_type": "code",
   "execution_count": 13,
   "metadata": {},
   "outputs": [
    {
     "name": "stdout",
     "output_type": "stream",
     "text": [
      "Insira a primeira nota: 5\n",
      "Insira a segunda nota: 9\n",
      "Nota 1:  5.0\n",
      "Nota 2:  9.0\n",
      "Média:  7.0\n",
      "Conceito:  C\n",
      "Aluno - APROVADO\n"
     ]
    }
   ],
   "source": [
    "nota16 = float(input('Insira a primeira nota: '))\n",
    "nota26 = float(input('Insira a segunda nota: '))\n",
    "media6 = (nota16 + nota26) / 2\n",
    "\n",
    "if media6 >= 9 and media6 <= 10:\n",
    "    conceito = 'A'\n",
    "elif media6 >= 7.5 and media6 < 9:\n",
    "    conceito = 'B'\n",
    "elif media6 >= 6 and media6 < 7.5:\n",
    "    conceito = 'C'\n",
    "elif media6 >= 4 and media6 < 6:\n",
    "    conceito = 'D'\n",
    "elif media6 < 4:\n",
    "    conceito = 'E'\n",
    "    \n",
    "print('Nota 1: ', nota16)\n",
    "print('Nota 2: ', nota26)\n",
    "print('Média: ', media6)\n",
    "print('Conceito: ', conceito)\n",
    "\n",
    "if conceito == \"A\":\n",
    "    print(\"Aluno - bAPROVADO\")\n",
    "elif conceito == \"B\":\n",
    "    print(\"Aluno- APROVADO\")\n",
    "elif conceito == \"C\":\n",
    "    print(\"Aluno - APROVADO\")\n",
    "else:\n",
    "    print(\"Aluno - REPROVADO\")"
   ]
  },
  {
   "cell_type": "markdown",
   "metadata": {},
   "source": [
    "<b>8: Faça um Programa que peça os 3 lados de um triângulo. O programa deverá informar se os valores podem ser um triângulo. Indique, caso os lados formem um triângulo, se o mesmo é: equilátero, isósceles ou escaleno. Dicas:</b>\n",
    "<br><br>\n",
    "Três lados formam um triângulo quando a soma de quaisquer dois lados for maior<br>\n",
    "que o terceiro;\n",
    " Triângulo Equilátero: três lados iguais;<br>\n",
    "Triângulo Isósceles: quaisquer dois lados iguais;<br>\n",
    " Triângulo Escaleno: três lados diferentes;<br>"
   ]
  },
  {
   "cell_type": "code",
   "execution_count": 19,
   "metadata": {},
   "outputs": [
    {
     "name": "stdout",
     "output_type": "stream",
     "text": [
      "Insira o primeiro lado: 3\n",
      "Insira o segundo lado: 5\n",
      "Insira o terceiro lado: 6\n",
      "Os valores dos lados informados formam um triângulo:\n",
      "Escaleno.\n"
     ]
    }
   ],
   "source": [
    "l1 = float(input('Insira o primeiro lado: '))\n",
    "l2 = float(input('Insira o segundo lado: '))\n",
    "l3 = float(input('Insira o terceiro lado: '))\n",
    "\n",
    "if l1 < l2 + l3 and l2 < l1 + l3 and l3 < l1 + l2:\n",
    "    print('Os valores dos lados informados formam um triângulo:')\n",
    "    if l1 == l2 == l3:\n",
    "        print('Equilátero.')\n",
    "    elif l1 == l2 or l1 == l3 or l2 == l3:\n",
    "        print('Isósceles.')\n",
    "    else:\n",
    "        print('Escaleno.')\n",
    "else:\n",
    "    print('Os valores dos lados informados não formam um triângulo.')"
   ]
  },
  {
   "cell_type": "markdown",
   "metadata": {},
   "source": [
    "<b>9. Faça um programa que calcule as raízes de uma equação do segundo grau, na\n",
    "forma ax2 + bx + c. O programa deverá pedir os valores de a, b e c e fazer as\n",
    "consistências, informando ao usuário nas seguintes situações:</b><br>\n",
    "<br>- Se o usuário informar o valor de A igual a zero, a equação não é do segundo grau e\n",
    "o programa não deve fazer pedir os demais valores, sendo encerrado;\n",
    "<br>- Se o delta calculado for negativo, a equação não possui raizes reais. Informe ao\n",
    "usuário e encerre o programa;\n",
    "<br>- Se o delta calculado for igual a zero a equação possui apenas uma raiz real;\n",
    "informe-a ao usuário;\n",
    "<br>- Se o delta for positivo, a equação possui duas raiz reais; informe-as ao usuário;"
   ]
  },
  {
   "cell_type": "code",
   "execution_count": 21,
   "metadata": {},
   "outputs": [
    {
     "name": "stdout",
     "output_type": "stream",
     "text": [
      "Insira o A: -1\n",
      "Insira o B: 2\n",
      "Insira o C: 3\n",
      "A equação possui duas raiz reais: -1.0 e 3.0\n"
     ]
    }
   ],
   "source": [
    "import math\n",
    "\n",
    "a = float(input('Insira o A: '))\n",
    "if a == 0:\n",
    "    print(\"Não é uma equação de segundo grau, programa encerrado.\")\n",
    "else:\n",
    "    b = float(input('Insira o B: '))\n",
    "    c = float(input('Insira o C: '))\n",
    "    delta = b**2 - 4*a*c\n",
    "    if delta < 0:\n",
    "        print(\"A equação não possui raizes reais, programa encerrado\")\n",
    "    elif delta == 0:\n",
    "        x = -b / (2*a)\n",
    "        print(\"A equação possui apenas uma raiz real:\", x)\n",
    "    else:\n",
    "        x1 = (-b + math.sqrt(delta)) / (2*a)\n",
    "        x2 = (-b - math.sqrt(delta)) / (2*a)\n",
    "        print(f\"A equação possui duas raiz reais: {x1} e {x2}\")"
   ]
  },
  {
   "cell_type": "markdown",
   "metadata": {},
   "source": [
    "<b>10. Faça um Programa para um caixa eletrônico. O programa deverá perguntar ao\n",
    "usuário a valor do saque e depois informar quantas notas de cada valor serão\n",
    "fornecidas. As notas disponíveis serão as de 1, 5, 10, 50 e 100 reais. O valor mínimo é\n",
    "de 10 reais e o máximo de 600 reais. O programa não deve se preocupar com a\n",
    "quantidade de notas existentes na máquina.</b><br>\n",
    "<br>- Exemplo 1: Para sacar a quantia de 256 reais, o programa fornece duas notas de\n",
    "100, uma nota de 50, uma nota de 5 e uma nota de 1;\n",
    "<br>- Exemplo 2: Para sacar a quantia de 399 reais, o programa fornece três notas de\n",
    "100, uma nota de 50, quatro notas de 10, uma nota de 5 e quatro notas de 1."
   ]
  },
  {
   "cell_type": "code",
   "execution_count": 22,
   "metadata": {},
   "outputs": [
    {
     "name": "stdout",
     "output_type": "stream",
     "text": [
      "Informe o valor a ser sacado: 452\n",
      "4 notas de 100 reais;\n",
      "1 notas de 50 reais;\n",
      "0 notas de 10 reais;\n",
      "0 notas de 5 reais;\n",
      "2 notas de 1 real.\n"
     ]
    }
   ],
   "source": [
    "saque = int(input(\"Informe o valor a ser sacado: \"))\n",
    "if saque >= 10 and saque <= 600:\n",
    "    n100 = saque // 100\n",
    "    resto = saque % 100\n",
    "    print(f'{n100} notas de 100 reais;')\n",
    "    n50 = resto // 50\n",
    "    resto = resto % 50\n",
    "    print(f'{n50} notas de 50 reais;')\n",
    "    n10 = resto // 10\n",
    "    resto = resto % 10\n",
    "    print(f'{n10} notas de 10 reais;')\n",
    "    n5 = resto // 5\n",
    "    resto = resto % 5\n",
    "    print(f'{n5} notas de 5 reais;')\n",
    "    print(f'{resto} notas de 1 real.')\n",
    "else:\n",
    "    print(\"Valor não permitido.\")"
   ]
  },
  {
   "cell_type": "markdown",
   "metadata": {},
   "source": [
    "<b>11. Faça um programa que faça 5 perguntas para uma pessoa sobre um crime. As\n",
    "perguntas são:</b><br>\n",
    "<br>\"Telefonou para a vítima?\"\n",
    "<br>\"Esteve no local do crime?\"\n",
    "<br>\"Mora perto da vítima?\"\n",
    "<br>\"Devia para a vítima?\"\n",
    "<br>\"Já trabalhou com a vítima?\"<br>\n",
    "<br>O programa deve no final emitir uma classificação sobre a participação da pessoa no\n",
    "crime. Se a pessoa responder positivamente a 2 questões ela deve ser classificada\n",
    "como \"Suspeita\", entre 3 e 4 como \"Cúmplice\" e 5 como \"Assassino\". Caso contrário,\n",
    "ele será classificado como \"Inocente\"."
   ]
  },
  {
   "cell_type": "code",
   "execution_count": 23,
   "metadata": {},
   "outputs": [
    {
     "name": "stdout",
     "output_type": "stream",
     "text": [
      "Telefonou para a vítima? (s/n): s\n",
      "Esteve no local do crime? (s/n): n\n",
      "Mora perto da vítima? (s/n): s\n",
      "Devia para a vítima? (s/n): s\n",
      "Já trabalhou com a vítima? (s/n): n\n",
      "Cúmplice\n"
     ]
    }
   ],
   "source": [
    "score = 0\n",
    "respostas = [\n",
    "    input(\"Telefonou para a vítima? (s/n): \"),\n",
    "    input(\"Esteve no local do crime? (s/n): \"),\n",
    "    input(\"Mora perto da vítima? (s/n): \"),\n",
    "    input(\"Devia para a vítima? (s/n): \"),\n",
    "    input(\"Já trabalhou com a vítima? (s/n): \")\n",
    "]\n",
    "\n",
    "for resposta in respostas:\n",
    "    if resposta == \"s\":\n",
    "        score += 1\n",
    "        \n",
    "if score == 2:\n",
    "    print(\"Suspeita\")\n",
    "elif score >= 3 and score <= 4:\n",
    "    print(\"Cúmplice\")\n",
    "elif score == 5:\n",
    "    print(\"Assassino\")\n",
    "else:\n",
    "    print(\"Inocente\")"
   ]
  },
  {
   "cell_type": "markdown",
   "metadata": {},
   "source": [
    "<b>12. Uma fruteira está vendendo frutas com a seguinte tabela de preços:</b><br>\n",
    "<br> Até 5 Kg Acima de 5 Kg\n",
    "<br>Morango RS 2,50 por Kg RS 2,20 por Kg\n",
    "<br>Maçã RS 1,80 por Kg RS 1,50 por Kg\n",
    "<br>Se o cliente comprar mais de 8 Kg em frutas ou o valor total da compra ultrapassar\n",
    "R$ 25,00, receberá ainda um desconto de 10porcento sobre este total. Escreva um\n",
    "algoritmo para ler a quantidade (em Kg) de morangos e a quantidade (em Kg) de\n",
    "maças adquiridas e escreva o valor a ser pago pelo cliente.\n"
   ]
  },
  {
   "cell_type": "code",
   "execution_count": null,
   "metadata": {},
   "outputs": [],
   "source": [
    "preco = 0\n",
    "kgMorg = float(input(\"Insira a quantidade em kg de morangos: \"))\n",
    "kgMaca = float(input(\"Insira a quantidade em kg de maçãs: \"))\n",
    "\n",
    "if kgMorg < 5:\n",
    "    preco += kgMorg * 2.50\n",
    "else:\n",
    "    preco += kgMorg * 2.20\n",
    "    \n",
    "if kgMaca < 5:\n",
    "    preco += kgMaca * 1.80\n",
    "else:\n",
    "    preco += kgMaca * 1.50\n",
    "    \n",
    "if preco > 25.00:\n",
    "    preco *= 0.90\n",
    "\n",
    "print('Valor a ser pago: ', preco)"
   ]
  },
  {
   "cell_type": "markdown",
   "metadata": {},
   "source": [
    "<b>13. Faça um programa que peça uma nota, entre zero e dez. Mostre uma mensagem\n",
    "caso o valor seja inválido e continue pedindo até que o usuário informe um valor\n",
    "válido.</b>"
   ]
  },
  {
   "cell_type": "code",
   "execution_count": 25,
   "metadata": {},
   "outputs": [
    {
     "name": "stdout",
     "output_type": "stream",
     "text": [
      "Insira uma nora entre zero e dez: 12\n",
      "Valor inválido.\n",
      "Insira uma nora entre zero e dez: 12\n",
      "Valor inválido.\n",
      "Insira uma nora entre zero e dez: 12\n",
      "Valor inválido.\n",
      "Insira uma nora entre zero e dez: 4\n",
      "Valor válido.\n"
     ]
    }
   ],
   "source": [
    "num = int(input(\"Insira uma nora entre zero e dez: \"))\n",
    "while num < 0 or num > 10:\n",
    "    print(\"Valor inválido.\")\n",
    "    num = int(input(\"Insira uma nora entre zero e dez: \"))\n",
    "else:\n",
    "    print(\"Valor válido.\")"
   ]
  },
  {
   "cell_type": "markdown",
   "metadata": {},
   "source": [
    "<b>13 (V2??) . Faça um programa que leia e valide as seguintes informações: </b><br>\n",
    "Nome: maior que 3 caracteres;<br>\n",
    "Idade: entre 0 e 150;<br>\n",
    "Salário: maior que zero;<br>\n",
    "Sexo: 'f' ou 'm';<br>\n",
    "Estado Civil: 's', 'c', 'v', 'd';<br>"
   ]
  },
  {
   "cell_type": "code",
   "execution_count": 26,
   "metadata": {},
   "outputs": [
    {
     "name": "stdout",
     "output_type": "stream",
     "text": [
      "Insira o nome (maior que três caracteres): lukas\n",
      "Insira a idade (0 - 150): 18\n",
      "Insira o salário (maior que zero): 200\n",
      "Insira o sexo (f/m): m\n",
      "Insira o estado civil (s/c/v/d): s\n"
     ]
    }
   ],
   "source": [
    "nome = input(\"Insira o nome (maior que três caracteres): \")\n",
    "while len(nome) <= 3:\n",
    "    nome = input(\"Insira o nome (maior que três caracteres): \")\n",
    "    \n",
    "idade = int(input(\"Insira a idade (0 - 150): \"))\n",
    "while idade < 0 or idade > 150:\n",
    "    idade = int(input(\"Insira a idade (0 - 150): \"))\n",
    "    \n",
    "salario = int(input(\"Insira o salário (maior que zero): \"))\n",
    "while salario <= 0:\n",
    "    salario = int(input(\"Insira o salário (maior que zero): \"))\n",
    "    \n",
    "sexo = input(\"Insira o sexo (f/m): \")\n",
    "while not (sexo in ['f', 'm']):\n",
    "    sexo = input(\"Insira o sexo (f/m): \")\n",
    "    \n",
    "estadocivil = input(\"Insira o estado civil (s/c/v/d): \")\n",
    "while not (estadocivil in ['s', 'c', 'v', 'd']):\n",
    "    estadocivil = input(\"Insira o estado civil (s/c/v/d): \")"
   ]
  },
  {
   "cell_type": "markdown",
   "metadata": {},
   "source": [
    "<b>14. Faça um programa que leia 5 números e informe o maior número.</b>"
   ]
  },
  {
   "cell_type": "code",
   "execution_count": 27,
   "metadata": {},
   "outputs": [
    {
     "name": "stdout",
     "output_type": "stream",
     "text": [
      "Digite o 1º número: 4\n",
      "Digite o 2º número: 5\n",
      "Digite o 3º número: 67\n",
      "Digite o 4º número: 42\n",
      "Digite o 5º número: 4\n",
      "Maior: 67\n"
     ]
    }
   ],
   "source": [
    "maior = int(input(\"Digite o 1º número: \"))\n",
    "for num in range(2,6):\n",
    "    x = int(input(f\"Digite o {num}º número: \"))\n",
    "    if x > maior:\n",
    "        maior = x\n",
    "print(\"Maior:\", maior)"
   ]
  },
  {
   "cell_type": "markdown",
   "metadata": {},
   "source": [
    "<b>15. Faça um programa que leia 5 números e informe a soma e a média dos números.</b>"
   ]
  },
  {
   "cell_type": "code",
   "execution_count": 29,
   "metadata": {},
   "outputs": [
    {
     "name": "stdout",
     "output_type": "stream",
     "text": [
      "Digite o 1º número: 65\n",
      "Digite o 2º número: 47\n",
      "Digite o 3º número: 47\n",
      "Digite o 4º número: 69\n",
      "Digite o 5º número: 321\n",
      "Soma: 549\n",
      "Media: 109.8\n"
     ]
    }
   ],
   "source": [
    "soma = 0\n",
    "for num in range(1,6):\n",
    "    soma += int(input(f\"Digite o {num}º número: \"))\n",
    "print(\"Soma:\", soma)\n",
    "print(\"Media:\", soma / 5)"
   ]
  },
  {
   "cell_type": "markdown",
   "metadata": {},
   "source": [
    "<b>16. Faça um programa que imprima na tela apenas os números ímpares entre 1 e 50</b>"
   ]
  },
  {
   "cell_type": "code",
   "execution_count": 30,
   "metadata": {},
   "outputs": [
    {
     "name": "stdout",
     "output_type": "stream",
     "text": [
      "1\n",
      "3\n",
      "5\n",
      "7\n",
      "9\n",
      "11\n",
      "13\n",
      "15\n",
      "17\n",
      "19\n",
      "21\n",
      "23\n",
      "25\n",
      "27\n",
      "29\n",
      "31\n",
      "33\n",
      "35\n",
      "37\n",
      "39\n",
      "41\n",
      "43\n",
      "45\n",
      "47\n",
      "49\n"
     ]
    }
   ],
   "source": [
    "for num in range(1, 51):\n",
    "    if num % 2 != 0:\n",
    "        print(num)"
   ]
  },
  {
   "cell_type": "markdown",
   "metadata": {},
   "source": [
    "<b>17. Desenvolva um gerador de tabuada, capaz de gerar a tabuada de qualquer\n",
    "número inteiro entre 1 a 10. O usuário deve informar de qual numero ele deseja ver\n",
    "a tabuada. A saída deve ser conforme o exemplo abaixo:</b><br>\n",
    "<br>Tabuada de 5:\n",
    "<br>5 X 1 = 5\n",
    "<br>5 X 2 = 10\n",
    "<br>...\n",
    "<br>5 X 10 = 50"
   ]
  },
  {
   "cell_type": "code",
   "execution_count": 31,
   "metadata": {},
   "outputs": [
    {
     "name": "stdout",
     "output_type": "stream",
     "text": [
      "Insira o número da tabuada: 7\n",
      "7 X 1 = 7\n",
      "7 X 2 = 14\n",
      "7 X 3 = 21\n",
      "7 X 4 = 28\n",
      "7 X 5 = 35\n",
      "7 X 6 = 42\n",
      "7 X 7 = 49\n",
      "7 X 8 = 56\n",
      "7 X 9 = 63\n",
      "7 X 10 = 70\n"
     ]
    }
   ],
   "source": [
    "tabuada = int(input(\"Insira o número da tabuada: \"))\n",
    "for mt in range(1, 11):\n",
    "    res = mt*tabuada\n",
    "    print(f\"{tabuada} X {mt} = {res}\")"
   ]
  },
  {
   "cell_type": "markdown",
   "metadata": {},
   "source": [
    "<b>18. A série de Fibonacci é formada pela seqüência 1,1,2,3,5,8,13,21,34,55,... Faça um\n",
    "programa capaz de gerar a série até o n−ésimo termo.</b>"
   ]
  },
  {
   "cell_type": "code",
   "execution_count": 34,
   "metadata": {},
   "outputs": [
    {
     "name": "stdout",
     "output_type": "stream",
     "text": [
      "Até qual termo? 10\n",
      "1\n",
      "1\n",
      "2\n",
      "3\n",
      "5\n",
      "8\n",
      "13\n",
      "21\n",
      "34\n"
     ]
    }
   ],
   "source": [
    "a = 0\n",
    "b = 1\n",
    "nesimo = int(input(\"Até qual termo? \"))\n",
    "for i in range(nesimo):\n",
    "    if a != 0:\n",
    "        print(a)\n",
    "    aux = b\n",
    "    b = a + b\n",
    "    a = aux"
   ]
  },
  {
   "cell_type": "markdown",
   "metadata": {},
   "source": [
    "<b>19. Faça um programa que calcule o fatorial de um número inteiro fornecido pelo\n",
    "usuário. Ex.: 5!=5.4.3.2.1=120</b>"
   ]
  },
  {
   "cell_type": "code",
   "execution_count": 36,
   "metadata": {},
   "outputs": [
    {
     "name": "stdout",
     "output_type": "stream",
     "text": [
      "Fatorial de: 4\n",
      "24\n"
     ]
    }
   ],
   "source": [
    "fatorial = int(input(\"Fatorial de: \"))\n",
    "for i in range(1, fatorial):\n",
    "    fatorial = fatorial * i\n",
    "print(fatorial)"
   ]
  },
  {
   "cell_type": "markdown",
   "metadata": {},
   "source": [
    "<b>20. O Sr. Manoel Joaquim possui uma grande loja de artigos de RS 1,99, com cerca\n",
    "de 10 caixas. Para agilizar o cálculo de quanto cada cliente deve pagar ele\n",
    "desenvolveu um tabela que contém o número de itens que o cliente comprou e ao\n",
    "lado o valor da conta. Desta forma a atendente do caixa precisa apenas contar\n",
    "quantos itens o cliente está levando e olhar na tabela de preços. Você foi contratado\n",
    "para desenvolver o programa que monta esta tabela de preços, que conterá os\n",
    "preços de 1 até 50 produtos, conforme o exemplo abaixo:</b><br>\n",
    "<br>Lojas Quase Dois - Tabela de preços\n",
    "<br>1 - RS 1.99\n",
    "<br>2 - RS 3.98\n",
    "<br>...\n",
    "<br>50 - RS 99.50\n"
   ]
  },
  {
   "cell_type": "code",
   "execution_count": 37,
   "metadata": {},
   "outputs": [
    {
     "name": "stdout",
     "output_type": "stream",
     "text": [
      "1 - R$ 1.99\n",
      "2 - R$ 3.98\n",
      "3 - R$ 5.97\n",
      "4 - R$ 7.96\n",
      "5 - R$ 9.95\n",
      "6 - R$ 11.94\n",
      "7 - R$ 13.93\n",
      "8 - R$ 15.92\n",
      "9 - R$ 17.91\n",
      "10 - R$ 19.9\n",
      "11 - R$ 21.89\n",
      "12 - R$ 23.88\n",
      "13 - R$ 25.87\n",
      "14 - R$ 27.86\n",
      "15 - R$ 29.85\n",
      "16 - R$ 31.84\n",
      "17 - R$ 33.83\n",
      "18 - R$ 35.82\n",
      "19 - R$ 37.81\n",
      "20 - R$ 39.8\n",
      "21 - R$ 41.79\n",
      "22 - R$ 43.78\n",
      "23 - R$ 45.77\n",
      "24 - R$ 47.76\n",
      "25 - R$ 49.75\n",
      "26 - R$ 51.74\n",
      "27 - R$ 53.73\n",
      "28 - R$ 55.72\n",
      "29 - R$ 57.71\n",
      "30 - R$ 59.7\n",
      "31 - R$ 61.69\n",
      "32 - R$ 63.68\n",
      "33 - R$ 65.67\n",
      "34 - R$ 67.66\n",
      "35 - R$ 69.65\n",
      "36 - R$ 71.64\n",
      "37 - R$ 73.63\n",
      "38 - R$ 75.62\n",
      "39 - R$ 77.61\n",
      "40 - R$ 79.6\n",
      "41 - R$ 81.59\n",
      "42 - R$ 83.58\n",
      "43 - R$ 85.57\n",
      "44 - R$ 87.56\n",
      "45 - R$ 89.55\n",
      "46 - R$ 91.54\n",
      "47 - R$ 93.53\n",
      "48 - R$ 95.52\n",
      "49 - R$ 97.51\n",
      "50 - R$ 99.5\n"
     ]
    }
   ],
   "source": [
    "for num in range(1, 51):\n",
    "    preco = num * 1.99\n",
    "    print(f\"{num} - R$ {preco}\")"
   ]
  },
  {
   "cell_type": "markdown",
   "metadata": {},
   "source": [
    "<b>21. O Sr. Manoel Joaquim acaba de adquirir uma panificadora e pretende implantar\n",
    "a metodologia da tabelinha, que já é um sucesso na sua loja de 1,99. Você foi\n",
    "contratado para desenvolver o programa que monta a tabela de preços de pães, de\n",
    "1 até 50 pães, a partir do preço do pão informado pelo usuário, conforme o exemplo\n",
    "abaixo:</b><br>\n",
    "<br>Preço do pão: RS 0.18\n",
    "<br>Panificadora Pão de Ontem - Tabela de preços\n",
    "<br>1 - RS 0.18\n",
    "<br>2 - RS 0.36\n",
    "<br>...\n",
    "<br>50 - RS 9.00"
   ]
  },
  {
   "cell_type": "code",
   "execution_count": 38,
   "metadata": {},
   "outputs": [
    {
     "name": "stdout",
     "output_type": "stream",
     "text": [
      "Insira o preço do pão: 0.20\n",
      "1 - R$ 0.20\n",
      "2 - R$ 0.40\n",
      "3 - R$ 0.60\n",
      "4 - R$ 0.80\n",
      "5 - R$ 1.00\n",
      "6 - R$ 1.20\n",
      "7 - R$ 1.40\n",
      "8 - R$ 1.60\n",
      "9 - R$ 1.80\n",
      "10 - R$ 2.00\n",
      "11 - R$ 2.20\n",
      "12 - R$ 2.40\n",
      "13 - R$ 2.60\n",
      "14 - R$ 2.80\n",
      "15 - R$ 3.00\n",
      "16 - R$ 3.20\n",
      "17 - R$ 3.40\n",
      "18 - R$ 3.60\n",
      "19 - R$ 3.80\n",
      "20 - R$ 4.00\n",
      "21 - R$ 4.20\n",
      "22 - R$ 4.40\n",
      "23 - R$ 4.60\n",
      "24 - R$ 4.80\n",
      "25 - R$ 5.00\n",
      "26 - R$ 5.20\n",
      "27 - R$ 5.40\n",
      "28 - R$ 5.60\n",
      "29 - R$ 5.80\n",
      "30 - R$ 6.00\n",
      "31 - R$ 6.20\n",
      "32 - R$ 6.40\n",
      "33 - R$ 6.60\n",
      "34 - R$ 6.80\n",
      "35 - R$ 7.00\n",
      "36 - R$ 7.20\n",
      "37 - R$ 7.40\n",
      "38 - R$ 7.60\n",
      "39 - R$ 7.80\n",
      "40 - R$ 8.00\n",
      "41 - R$ 8.20\n",
      "42 - R$ 8.40\n",
      "43 - R$ 8.60\n",
      "44 - R$ 8.80\n",
      "45 - R$ 9.00\n",
      "46 - R$ 9.20\n",
      "47 - R$ 9.40\n",
      "48 - R$ 9.60\n",
      "49 - R$ 9.80\n",
      "50 - R$ 10.00\n"
     ]
    }
   ],
   "source": [
    "preco = float(input(\"Insira o preço do pão: \"))\n",
    "for num in range(1, 51):\n",
    "    total = num * preco\n",
    "    print(\"%s - R$ %.2f\" % (num, total))"
   ]
  },
  {
   "cell_type": "markdown",
   "metadata": {},
   "source": [
    "<b>22. O Sr. Manoel Joaquim expandiu seus negócios para além dos negócios de 1,99 e\n",
    "agora possui uma loja de conveniências. Faça um programa que implemente uma\n",
    "caixa registradora rudimentar. O programa deverá receber um número\n",
    "desconhecido de valores referentes aos preços das mercadorias. Um valor zero deve\n",
    "ser informado pelo operador para indicar o final da compra. O programa deve então\n",
    "mostrar o total da compra e perguntar o valor em dinheiro que o cliente forneceu,\n",
    "para então calcular e mostrar o valor do troco. Após esta operação, o programa\n",
    "deverá voltar ao ponto inicial, para registrar a próxima compra. A saída deve ser\n",
    "conforme o exemplo abaixo:</b><br>\n",
    "<br>Lojas Tabajara\n",
    "<br>Produto 1: RS 2.20\n",
    "<br>Produto 2: RS 5.80\n",
    "<br>Produto 3: RS 0\n",
    "<br>Total: RS 9.00\n",
    "<br>Dinheiro: RS 20.00\n",
    "<br>Troco: RS 11.00\n",
    "<br>..."
   ]
  },
  {
   "cell_type": "code",
   "execution_count": 39,
   "metadata": {},
   "outputs": [
    {
     "name": "stdout",
     "output_type": "stream",
     "text": [
      "Insira o preço do item (Digite '0' para finalizar a compra): 2\n",
      "Produto 1: R$ 2.0\n",
      "Insira o preço do item (Digite '0' para finalizar a compra): 1.5\n",
      "Produto 2: R$ 1.5\n",
      "Insira o preço do item (Digite '0' para finalizar a compra): 0\n",
      "Total: R$ 3.5\n",
      "Insira o valor a ser pago: 4\n",
      "Troco: R$  0.5\n"
     ]
    }
   ],
   "source": [
    "total = 0\n",
    "preco = -1\n",
    "i = 0\n",
    "while preco != 0:\n",
    "    preco = float(input(\"Insira o preço do item (Digite '0' para finalizar a compra): \"))\n",
    "    total += preco\n",
    "    i += 1\n",
    "    if preco == 0:\n",
    "        print(f\"Total: R$ {total}\")\n",
    "        pago = float(input(\"Insira o valor a ser pago: \"))\n",
    "        print(\"Troco: R$ \", pago - total)\n",
    "    else:\n",
    "        print(f\"Produto {i}: R$ {preco}\")"
   ]
  },
  {
   "cell_type": "markdown",
   "metadata": {},
   "source": [
    "<b>23. Foi feita uma estatística em cinco cidades brasileiras para coletar dados sobre\n",
    "acidentes de trânsito. Foram obtidos os seguintes dados:</b><br>\n",
    "<br>- Código da cidade;\n",
    "<br>- Número de veículos de passeio (em 1999);\n",
    "<br>- Número de acidentes de trânsito com vítimas (em 1999). Deseja-se saber:\n",
    "<br>- Qual o maior e menor índice de acidentes de transito e a que cidade pertence;\n",
    "<br>- Qual a média de veículos nas cinco cidades juntas;\n",
    "<br>- Qual a média de acidentes de trânsito nas cidades com menos de 2.000 veículos de\n",
    "passeio."
   ]
  },
  {
   "cell_type": "code",
   "execution_count": 2,
   "metadata": {},
   "outputs": [
    {
     "name": "stdout",
     "output_type": "stream",
     "text": [
      "\n",
      "Digite o código da cidade: 125\n",
      "Digite o número de veículos de passeio: 466\n",
      "Digite a quantidade de acidentes : 478\n",
      "\n",
      "Digite o código da cidade: 413\n",
      "Digite o número de veículos de passeio: 36544\n",
      "Digite a quantidade de acidentes : 8465\n",
      "\n",
      "Digite o código da cidade: 6631\n",
      "Digite o número de veículos de passeio: 35\n",
      "Digite a quantidade de acidentes : 3641\n",
      "\n",
      "Digite o código da cidade: 2145\n",
      "Digite o número de veículos de passeio: 63\n",
      "Digite a quantidade de acidentes : 215\n",
      "\n",
      "Digite o código da cidade: 45\n",
      "Digite o número de veículos de passeio: 21\n",
      "Digite a quantidade de acidentes : 1\n",
      "\n",
      "A cidade com maior índice de acidentes é 6631 com 104.03\n",
      "A cidade com menor índice de acidentes é 45 com 0.05\n",
      "A média de veículos nas cidades é 7425.80\n",
      "A média de acidentes de trânsito nas cidades com menos de dois mil veículos é 1083.75\n"
     ]
    }
   ],
   "source": [
    "soma_veiculos = 0\n",
    "soma_acidentes = 0\n",
    "soma_acidentes_menos_dois_mil = 0\n",
    "total_cidades_menos_dois_mil = 0\n",
    "\n",
    "for i in range(0, 5):\n",
    "    codigo = int(input('\\nDigite o código da cidade: '))\n",
    "    veiculos = int(input('Digite o número de veículos de passeio: '))\n",
    "    acidentes = int(input('Digite a quantidade de acidentes : '))\n",
    "    indice_acidentes = acidentes / float(veiculos)\n",
    "    soma_veiculos += veiculos\n",
    "    if ('mais_acidentes' not in vars()) or (indice_acidentes > mais_acidentes):\n",
    "        mais_acidentes = indice_acidentes\n",
    "        codigo_mais_acidentes = codigo\n",
    "    if ('menos_acidentes' not in vars()) or (indice_acidentes < menos_acidentes):\n",
    "        menos_acidentes = indice_acidentes\n",
    "        codigo_menos_acidentes = codigo\n",
    "\n",
    "    if (veiculos < 2000):\n",
    "        soma_acidentes_menos_dois_mil += acidentes\n",
    "        total_cidades_menos_dois_mil += 1\n",
    "\n",
    "print ('\\nA cidade com maior índice de acidentes é %i com %.2f' %(codigo_mais_acidentes, mais_acidentes))\n",
    "print ('A cidade com menor índice de acidentes é %i com %.2f' %(codigo_menos_acidentes, menos_acidentes))\n",
    "print ('A média de veículos nas cidades é %.2f' % (soma_veiculos / 5.0))\n",
    "print ('A média de acidentes de trânsito nas cidades com menos de dois mil veículos é %.2f' %(soma_acidentes_menos_dois_mil / float(total_cidades_menos_dois_mil)))"
   ]
  },
  {
   "cell_type": "markdown",
   "metadata": {},
   "source": [
    "<b>24. Faça um programa que receba o valor de uma dívida e mostre uma tabela com\n",
    "os seguintes dados: valor da dívida, valor dos juros, quantidade de parcelas e valor\n",
    "da parcela.</b><br>\n",
    "Os juros e a quantidade de parcelas seguem a tabela abaixo:<br>\n",
    "<br>Quantidade de Parcelas % de Juros sobre o valor inicial da dívida\n",
    "<br>1 0\n",
    "<br>3 10\n",
    "<br>6 15\n",
    "<br>9 20\n",
    "<br>12 25<br>\n",
    "<br>Exemplo de saída do programa:<br>\n",
    "<br>Valor da Dívida Valor dos Juros Quantidade de Parcelas Valor da Parcela\n",
    "<br>RS 1.000,00 0 1 RS 1.000,00\n",
    "<br>RS 1.100,00 100 3 RS 366,00\n",
    "<br>RS 1.150,00 150 6 RS 191,67"
   ]
  },
  {
   "cell_type": "code",
   "execution_count": 3,
   "metadata": {},
   "outputs": [
    {
     "name": "stdout",
     "output_type": "stream",
     "text": [
      "Insira o valor da dívida: 300\n",
      "Dívida \t Valor Juros \t Qtde Parcelas \t Valor da Parcela\n",
      "R$ 300.0 \t 0.0 \t 1 \t R$ 300.00\n",
      "R$ 330.0 \t 30.0 \t 3 \t R$ 110.00\n",
      "R$ 345.0 \t 45.0 \t 6 \t R$ 57.50\n",
      "R$ 360.0 \t 60.0 \t 9 \t R$ 40.00\n",
      "R$ 375.0 \t 75.0 \t 12 \t R$ 31.25\n"
     ]
    }
   ],
   "source": [
    "dividaInicial = float(input(\"Insira o valor da dívida: \"))\n",
    "print(\"Dívida \\t Valor Juros \\t Qtde Parcelas \\t Valor da Parcela\")\n",
    "for i in range(0, 5):\n",
    "    if i == 0:\n",
    "        juros = 0\n",
    "    elif i == 1:\n",
    "        juros = 10\n",
    "    else:\n",
    "        juros += 5\n",
    "    valorJuros = dividaInicial * (juros / 100)\n",
    "    divida = dividaInicial + valorJuros\n",
    "    if i == 0:\n",
    "        qtdeParc = 1\n",
    "    else:\n",
    "        qtdeParc = i * 3\n",
    "    if qtdeParc != 0:\n",
    "        valorParcela = divida / qtdeParc\n",
    "    else:\n",
    "        valorParcela = divida\n",
    "    print(f\"R$ {divida} \\t {valorJuros} \\t {qtdeParc} \\t R$ %.2f\"%(valorParcela))"
   ]
  },
  {
   "cell_type": "markdown",
   "metadata": {},
   "source": [
    "<b>25. Faça um programa que mostre os n termos da Série a seguir:</b><br>\n",
    "<br> S = 1/1 + 2/3 + 3/5 + 4/7 + 5/9 + ... + n/m.<br>\n",
    "Imprima no final a soma da série."
   ]
  },
  {
   "cell_type": "code",
   "execution_count": 4,
   "metadata": {},
   "outputs": [
    {
     "name": "stdout",
     "output_type": "stream",
     "text": [
      "Insira a quantidade de termos desejada: 30\n",
      "S = 1/1 + 2/3 + 3/5 + 4/7 + 5/9 + 6/11 + 7/13 + 8/15 + 9/17 + 10/19 + 11/21 + 12/23 + 13/25 + 14/27 + 15/29 + 16/31 + 17/33 + 18/35 + 19/37 + 20/39 + 21/41 + 22/43 + 23/45 + 24/47 + 25/49 + 26/51 + 27/53 + 28/55 + 29/57 + 30/59\n",
      "Soma da série: 16.34118842374577\n"
     ]
    }
   ],
   "source": [
    "termo = int(input('Insira a quantidade de termos desejada: '))\n",
    "\n",
    "somaStr = \"S = \"\n",
    "s = 0\n",
    "m = 1\n",
    "for n in range(1, termo + 1):\n",
    "    s += n / m\n",
    "    somaStr += str(n) + \"/\" + str(m)\n",
    "    if n != termo:\n",
    "        somaStr += \" + \"\n",
    "    m += 2\n",
    "\n",
    "print(somaStr)\n",
    "print('Soma da série: %s' % s)"
   ]
  }
 ],
 "metadata": {
  "kernelspec": {
   "display_name": "Python 3",
   "language": "python",
   "name": "python3"
  },
  "language_info": {
   "codemirror_mode": {
    "name": "ipython",
    "version": 3
   },
   "file_extension": ".py",
   "mimetype": "text/x-python",
   "name": "python",
   "nbconvert_exporter": "python",
   "pygments_lexer": "ipython3",
   "version": "3.7.1"
  }
 },
 "nbformat": 4,
 "nbformat_minor": 2
}
