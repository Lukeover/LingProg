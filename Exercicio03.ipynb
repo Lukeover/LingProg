{
 "cells": [
  {
   "cell_type": "markdown",
   "metadata": {},
   "source": [
    "## If, elif, else – for – while – operadores – list comprehensions\n",
    "LingProg - Lukas Barbosa de Oliveira - RA: 81714448 <br><br>\n",
    "\n",
    "1. Faça um Programa que peça dois números e imprima o maior deles."
   ]
  },
  {
   "cell_type": "code",
   "execution_count": 1,
   "metadata": {},
   "outputs": [
    {
     "name": "stdout",
     "output_type": "stream",
     "text": [
      "Insira um número: 90\n",
      "Insira um outro número: 67\n",
      "O maior número é o 90\n"
     ]
    }
   ],
   "source": [
    "n1 = int(input('Insira um número: '))\n",
    "n2 = int(input('Insira um outro número: '))\n",
    "\n",
    "if n1>n2:\n",
    "    print(f'O maior número é o {n1}')\n",
    "elif n2>n1:\n",
    "    print(f'O maior número é o {n2}')\n",
    "else:\n",
    "    print('Números iguais')\n",
    "    "
   ]
  },
  {
   "cell_type": "markdown",
   "metadata": {},
   "source": [
    "<b>2. Faça um Programa que verifique se uma letra digitada é vogal ou consoante.</b>"
   ]
  },
  {
   "cell_type": "code",
   "execution_count": 5,
   "metadata": {},
   "outputs": [
    {
     "name": "stdout",
     "output_type": "stream",
     "text": [
      "digite uma letra: u\n",
      "A letra u é uma vogal\n"
     ]
    }
   ],
   "source": [
    "vogais = 'aeiou'\n",
    "letra = input('digite uma letra: ')\n",
    "\n",
    "if letra in vogais:\n",
    "    print(f'A letra {letra} é uma vogal')\n",
    "else:\n",
    "    print(f'A letra {letra} é uma consoante')"
   ]
  },
  {
   "cell_type": "markdown",
   "metadata": {},
   "source": [
    "<b>3. Faça um programa para a leitura de duas notas parciais de um aluno. O programa\n",
    "deve calcular a média alcançada por aluno e apresentar:</b><br>\n",
    "- A mensagem \"Aprovado\", se a média alcançada for maior ou igual a sete;<br>\n",
    "- A mensagem \"Reprovado\", se a média for menor do que sete;<br>\n",
    "- A mensagem \"Aprovado com Distinção\", se a média for igual a dez."
   ]
  },
  {
   "cell_type": "code",
   "execution_count": 12,
   "metadata": {},
   "outputs": [
    {
     "name": "stdout",
     "output_type": "stream",
     "text": [
      "Insira a primeira nota parcial: 5\n",
      "Insira a segunda nota parcial: 10\n",
      "Média: 7.5 - APROVADO\n"
     ]
    }
   ],
   "source": [
    "nota1 = float(input('Insira a primeira nota parcial: '))\n",
    "nota2 = float(input('Insira a segunda nota parcial: '))\n",
    "\n",
    "media = (nota1+nota2)/2\n",
    "\n",
    "if media >= 7 and media < 10:\n",
    "    print(f'Média: {media} - APROVADO')\n",
    "elif media < 7:\n",
    "    print(f'Média: {media} - REPROVADO')\n",
    "elif media == 10:\n",
    "    print(f'Média: {media} - Aprovado com Distinção')\n"
   ]
  },
  {
   "cell_type": "markdown",
   "metadata": {},
   "source": [
    "<b>4. Faça um Programa que leia três números e mostre-os em ordem decrescente.</b>"
   ]
  },
  {
   "cell_type": "code",
   "execution_count": 20,
   "metadata": {},
   "outputs": [
    {
     "name": "stdout",
     "output_type": "stream",
     "text": [
      "Insira um número: 58\n",
      "Insira um segundo número: 34\n",
      "Insira um terceiro número: 68\n",
      "Ordem decrecente: 68 58 34\n"
     ]
    }
   ],
   "source": [
    "n41 = int(input('Insira um número: '))\n",
    "n42 = int(input('Insira um segundo número: '))\n",
    "n43 = int(input('Insira um terceiro número: '))\n",
    "\n",
    "if n41 > n42 and n41 >n43:\n",
    "    if n42 > n43:\n",
    "        print(f'Ordem decrecente: {n41} {n42} {n43}')\n",
    "    else:\n",
    "        print(f'Ordem decrecente: {n41} {n43} {n42}')\n",
    "        \n",
    "elif n42 > n41 and n42 >n43:\n",
    "    if n41 > n43:\n",
    "        print(f'Ordem decrecente: {n42} {n41} {n43}')\n",
    "    else:\n",
    "        print(f'Ordem decrecente: {n42} {n43} {n41}')\n",
    "        \n",
    "elif n43 > n41 and n43 >n42:\n",
    "    if n41 > n42:\n",
    "        print(f'Ordem decrecente: {n43} {n41} {n42}')\n",
    "    else:\n",
    "        print(f'Ordem decrecente: {n43} {n42} {n41}')"
   ]
  },
  {
   "cell_type": "markdown",
   "metadata": {},
   "source": [
    "<b>\n",
    "5: As Organizações Tabajara resolveram dar um aumento de salário aos seus colaboradores e lhe contrataram para desenvolver o programa que calculará os reajustes. Faça um programa que recebe o salário de um colaborador e o reajuste segundo o seguinte critério, baseado no salário atual:</b><br>\n",
    "\n",
    " salários até RS 280,00 (incluindo) : aumento de 20%<br>\n",
    " salários entre RS 280,00 e RS 700,00 : aumento de 15%<br>\n",
    " salários entre RS 700,00 e RS 1500,00 : aumento de 10%<br>\n",
    " salários de RS 1500,00 em diante : aumento de 5porcento<br>\n",
    "Após o aumento ser realizado, informe na tela:<br><br>\n",
    "\n",
    "- o salário antes do reajuste;<br>\n",
    "- o percentual de aumento aplicado;<br>\n",
    "- o valor do aumento;<br>\n",
    "- o novo salário, após o aumento."
   ]
  },
  {
   "cell_type": "code",
   "execution_count": 21,
   "metadata": {},
   "outputs": [
    {
     "name": "stdout",
     "output_type": "stream",
     "text": [
      "Insira o salário: 800\n",
      "Salário antes do reajuste: 800.0\n",
      "Percentual de aumento aplicado: 10.0%\n",
      "Valor do aumento: 80.0\n",
      "Novo salário: 880.0\n"
     ]
    }
   ],
   "source": [
    "salario = float(input('Insira o salário: '))\n",
    "if salario <= 280:\n",
    "    percentual = 0.20\n",
    "elif salario > 280 and salario <= 700:\n",
    "    percentual = 0.15\n",
    "elif salario > 700 and salario <= 1500:\n",
    "    percentual = 0.10\n",
    "else:\n",
    "    percentual = 0.05\n",
    "novoSalario = salario + (salario * percentual)\n",
    "\n",
    "print('Salário antes do reajuste:', salario)\n",
    "print(f'Percentual de aumento aplicado: {percentual * 100}%')\n",
    "print('Valor do aumento:', salario * percentual)\n",
    "print('Novo salário:', novoSalario)"
   ]
  }
 ],
 "metadata": {
  "kernelspec": {
   "display_name": "Python 3",
   "language": "python",
   "name": "python3"
  },
  "language_info": {
   "codemirror_mode": {
    "name": "ipython",
    "version": 3
   },
   "file_extension": ".py",
   "mimetype": "text/x-python",
   "name": "python",
   "nbconvert_exporter": "python",
   "pygments_lexer": "ipython3",
   "version": "3.7.1"
  }
 },
 "nbformat": 4,
 "nbformat_minor": 2
}
