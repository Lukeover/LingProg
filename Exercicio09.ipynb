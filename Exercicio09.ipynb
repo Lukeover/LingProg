{
 "cells": [
  {
   "cell_type": "markdown",
   "metadata": {},
   "source": [
    "###    Iterators - Generators - Coroutines - Built-in Functions - Collections\n",
    "LingProg - Lukas Barbosa de Oliveira - RA: 81714448 <br><br>\n",
    "\n",
    "<b>1. Implemente um gerador infinito de números primos</b>"
   ]
  },
  {
   "cell_type": "code",
   "execution_count": 1,
   "metadata": {},
   "outputs": [
    {
     "name": "stdout",
     "output_type": "stream",
     "text": [
      "1\n",
      "2\n",
      "3\n",
      "5\n",
      "7\n",
      "11\n",
      "13\n",
      "17\n",
      "19\n",
      "23\n"
     ]
    }
   ],
   "source": [
    "def gen_primes():    \n",
    "    D = {}\n",
    "    q = 1\n",
    "    \n",
    "    while True:\n",
    "        if q not in D: \n",
    "            yield q\n",
    "            D[q * q] = [q]\n",
    "        else:\n",
    "            for p in D[q]:\n",
    "                D.setdefault(p + q, []).append(p)\n",
    "            del D[q]\n",
    "        \n",
    "        q += 1        \n",
    "\n",
    "i = iter(gen_primes())\n",
    "for k in range(10):\n",
    "    print(next(i))"
   ]
  },
  {
   "cell_type": "markdown",
   "metadata": {},
   "source": [
    "<b>2 Implementar um gerador que leia um arquivo e retorne uma lista de tuplas com os\n",
    "dados (o separador de campo do arquivo é virgula), eliminando as linhas vazias. Caso\n",
    "ocorra algum problema, imprima uma mensagem de aviso e encerre o programa.\n",
    "Use o exemplo abaixo como arquivo de entrada:</b>\n",
    "Ex:<br><br>\n",
    "Entrada:<br><br>\n",
    "teste.txt<br>\n",
    "1,vermelho,2,verde,3,amarelo,4,roxo\n",
    "5,verde,6,preto,7,laranja,8,amarelo\n",
    "9,preto,10,roxo,11,roxo,12,branco<br><br>\n",
    "Chamada:<br>\n",
    "gera_tupla(teste.txt)<br><br>\n",
    "Retorno:<br>\n",
    "<b>[(1,'vermelho'),(2,'verde'),(3,'amarelo'),(4,'roxo'),(5,'verde\n",
    "'),(6,'preto'),(7,'laranja'),(8,'amarelo'),(9,'preto'),(10,'ro\n",
    "xo'),(11,'roxo'),(12,'branco')]</b>"
   ]
  },
  {
   "cell_type": "code",
   "execution_count": 4,
   "metadata": {},
   "outputs": [
    {
     "name": "stdout",
     "output_type": "stream",
     "text": [
      "('1', 'vermelho', '2', 'verde', '3', 'amarelo', '4', 'roxo')\n",
      "('5', 'verde', '6', 'preto', '7', 'laranja', '8', 'amarelo')\n",
      "('9', 'preto', '10', 'roxo', '11', 'roxo', '12', 'branco')\n"
     ]
    }
   ],
   "source": [
    "def gera_tupla(fn):\n",
    "    try:\n",
    "        myFile = open(fn)\n",
    "        for line in myFile:\n",
    "            new_line = line.strip()\n",
    "            if new_line:\n",
    "                yield tuple(new_line.split(','))\n",
    "    except:\n",
    "        print('impossivel ler o arquivo', fn)\n",
    "        raise exit\n",
    "        \n",
    "for line in gera_tupla('teste.txt'):\n",
    "    print(line)"
   ]
  },
  {
   "cell_type": "markdown",
   "metadata": {},
   "source": [
    "<b>3 Implementar dois geradores e rodá-los em paralelo (coroutine) para processar dois\n",
    "arquivos e gerar tuplas. O primeiro é similar ao do exercício 2. O segundo processa\n",
    "outro arquivo, também separado por vírgulas. No final, a lista gerada deve conter\n",
    "tuplas com 3 elementos. Use o exemplo baixo como base:</b>\n",
    "Entrada:<br><br>\n",
    "teste1.txt<br>\n",
    "1,vermelho,2,verde,3,amarelo,4,roxo\n",
    "5,verde,6,preto,7,laranja,8,amarelo\n",
    "9,preto,10,roxo,11,roxo,12,branco<br><br>\n",
    "teste2.txt<br>\n",
    "0,1,0,0<br>\n",
    "1,1,1,0<br>\n",
    "1,0,0,1<br>\n",
    "Chamada:<br>\n",
    "gera_tupla1(teste1.txt), gera_tupla2(teste2.txt)<br><br>\n",
    "Retorno:<br>\n",
    "<b>[(1,'vermelho',False),(2,'verde',True),(3,'amarelo',False),(4,\n",
    "'roxo',False),(5,'verde',True),(6,'preto',True),(7,'laranja',T\n",
    "rue),(8,'amarelo',False),(9,'preto',True),(10,'roxo',False),(1\n",
    "1,'roxo',False),(12,'branco',True)]</b>"
   ]
  },
  {
   "cell_type": "code",
   "execution_count": null,
   "metadata": {},
   "outputs": [],
   "source": [
    "def load_txt(fn):\n",
    "    try:\n",
    "        myFile = open(fn)\n",
    "        for line in myFile:\n",
    "            new_line = line.strip()\n",
    "            if new_line:\n",
    "                try:\n",
    "                    yield tuple(new_line.split(','))\n",
    "                except:\n",
    "                    continue\n",
    "    except:\n",
    "        print('Impossivel ler o arquivo', fn)\n",
    "        raise SystemExit\n",
    "        \n",
    "finish_list = []\n",
    "for i, (t1, t2) in enumerate(zip(load_txt('teste1.txt'), load_txt('teste2.txt'))):\n",
    "    finish_list.append(t1 if i % 2 == 0 else t2)\n",
    "print(\"Finish\")\n",
    "print(finish_list)"
   ]
  },
  {
   "cell_type": "markdown",
   "metadata": {},
   "source": [
    "<b>4. Escreva um generator que crie um fluxo infinito de inteiros a partir de um valor inicial dado com passo 5.</b>\n",
    "<br><br>\n",
    "Ex: gera_inteiros(7) = 12, 17, 22, 27, ..."
   ]
  },
  {
   "cell_type": "code",
   "execution_count": 8,
   "metadata": {},
   "outputs": [
    {
     "name": "stdout",
     "output_type": "stream",
     "text": [
      "12\n",
      "17\n",
      "22\n",
      "27\n",
      "32\n",
      "37\n",
      "42\n",
      "47\n",
      "52\n",
      "57\n"
     ]
    }
   ],
   "source": [
    "def gera_inteiros(num):\n",
    "    ret = num + 5\n",
    "    yield ret\n",
    "    while True:\n",
    "        ret += 5\n",
    "        yield ret\n",
    "    \n",
    "g = gera_inteiros(7)\n",
    "i = 0\n",
    "while i < 10:\n",
    "    print(g.send(None))\n",
    "    i += 1"
   ]
  },
  {
   "cell_type": "markdown",
   "metadata": {},
   "source": [
    "<b>5. Estenda o generator do exercício 4 em uma coroutine que permita que a mudança do passo seja feita de fora (use send()).</b>\n",
    "<br><br>\n",
    "Ex: gera_inteiros_flex(7) = 12, 17, 22, 24, 26, 28, 30...\n",
    "<br><br>\n",
    "Entre 22 e 24 o passo foi alterado de 5 para 2."
   ]
  },
  {
   "cell_type": "code",
   "execution_count": 5,
   "metadata": {},
   "outputs": [
    {
     "name": "stdout",
     "output_type": "stream",
     "text": [
      "12\n",
      "17\n",
      "22\n",
      "24\n",
      "26\n",
      "28\n",
      "30\n"
     ]
    }
   ],
   "source": [
    "def gera_inteiros_flex(num):\n",
    "    ret = num + 5\n",
    "    yield ret\n",
    "    while True:\n",
    "        passo = yield\n",
    "        ret += passo\n",
    "        yield ret \n",
    "g = gera_inteiros_flex(7)\n",
    "print(g.send(None))\n",
    "i = 0\n",
    "while i < 2:\n",
    "    next(g)\n",
    "    print(g.send(5))\n",
    "    i += 1\n",
    "i = 0\n",
    "while i < 4:\n",
    "    next(g)\n",
    "    print(g.send(2))\n",
    "    i += 1"
   ]
  }
 ],
 "metadata": {
  "kernelspec": {
   "display_name": "Python 3",
   "language": "python",
   "name": "python3"
  },
  "language_info": {
   "codemirror_mode": {
    "name": "ipython",
    "version": 3
   },
   "file_extension": ".py",
   "mimetype": "text/x-python",
   "name": "python",
   "nbconvert_exporter": "python",
   "pygments_lexer": "ipython3",
   "version": "3.7.1"
  }
 },
 "nbformat": 4,
 "nbformat_minor": 2
}
