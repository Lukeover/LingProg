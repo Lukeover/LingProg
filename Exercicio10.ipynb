{
 "cells": [
  {
   "cell_type": "markdown",
   "metadata": {},
   "source": [
    "###    List e Dict Comprehensions, Comprehensions aninhadas, Generator Expressions, Funções Pré-Definidas, Numéricas e Lógicas que trabalham com iteradores.\n",
    "\n",
    "LingProg - Lukas Barbosa de Oliveira - RA: 81714448 <br><br>\n",
    "\n",
    "<b>1 Faça um programa que peça uma nota, entre zero e dez. Mostre uma mensagem\n",
    "caso o valor seja inválido e continue pedindo até que o usuário informe um valor\n",
    "válido.</b>"
   ]
  },
  {
   "cell_type": "code",
   "execution_count": 4,
   "metadata": {},
   "outputs": [],
   "source": [
    "#Maybe\n",
    "\n",
    "def maybe(fnc):\n",
    "    def inner(*args):\n",
    "        for a in args:\n",
    "            if isinstance(a, Exception):\n",
    "                return a\n",
    "        try:\n",
    "            return fnc(*args)\n",
    "        except Exception as e:\n",
    "            return e\n",
    "    return inner"
   ]
  },
  {
   "cell_type": "code",
   "execution_count": 5,
   "metadata": {},
   "outputs": [
    {
     "name": "stdout",
     "output_type": "stream",
     "text": [
      "Digite uma nota entre 0 e 10: 14\n",
      "Nota inválida, digite apenas uma nota de 0 a 10.\n",
      "Digite uma nota entre 0 e 10: 8\n",
      "A nota digitada foi 8\n"
     ]
    }
   ],
   "source": [
    "def maybe_number(fnc):\n",
    "    def inner(args):\n",
    "        try:\n",
    "            return fnc(args)\n",
    "        except ValueError as e:\n",
    "            print('Nota inválida, digite apenas uma nota de 0 a 10.')\n",
    "            return inner(args)\n",
    "    return inner\n",
    "\n",
    "get_numero = maybe_number(lambda mensagem: int(input(mensagem)))\n",
    "\n",
    "def maybe_entre_numeros(inicio, fim):\n",
    "    def maybe(fnc):\n",
    "        def inner():\n",
    "            num = get_numero(f'Digite uma nota entre {inicio} e {fim}: ')\n",
    "            if (num >= inicio and num <= fim):\n",
    "                return fnc(num)\n",
    "            else:\n",
    "                print('Nota inválida, digite apenas uma nota de 0 a 10.')\n",
    "                return inner()\n",
    "        return inner\n",
    "    return maybe\n",
    "\n",
    "mostrar_nota = lambda: maybe_entre_numeros(0, 10)(lambda nota: print('A nota digitada foi', nota))()\n",
    "    \n",
    "mostrar_nota()"
   ]
  },
  {
   "cell_type": "markdown",
   "metadata": {},
   "source": [
    "<b>2 Faça um programa que leia e valide as seguintes informações:</b><br><br>\n",
    "Nome: maior que 3 caracteres;<br>\n",
    "Idade: entre 0 e 150;<br>\n",
    "Salário: maior que zero;<br>\n",
    "Sexo: 'f' ou 'm';<br>\n",
    "Estado Civil: 's', 'c', 'v', 'd';"
   ]
  },
  {
   "cell_type": "code",
   "execution_count": 11,
   "metadata": {},
   "outputs": [
    {
     "name": "stdout",
     "output_type": "stream",
     "text": [
      "Nome: (com mais de 3 letras)lukas\n",
      "Salário: (maior que 0) 200\n",
      "Sexo: [m/f]g\n",
      "Sexo: [m/f]m\n",
      "Estado Civil: [s/c/v/d]t\n",
      "Estado Civil: [s/c/v/d]s\n"
     ]
    }
   ],
   "source": [
    "nome = ''\n",
    "idade = 0\n",
    "salario = 0\n",
    "sexo = ''\n",
    "estado_civil = ''\n",
    "\n",
    "while len(nome)<=3:\n",
    "    nome = input('Nome: (com mais de 3 letras)')\n",
    "\n",
    "while idade < 0 or idade > 150 :\n",
    "    idade = input('Idade:(entre 0 e 150) ')\n",
    "\n",
    "while salario <= 0:\n",
    "    salario = float(input('Salário: (maior que 0) '))\n",
    "\n",
    "while sexo != 'f'  and sexo != 'm':\n",
    "    sexo = input('Sexo: [m/f]')\n",
    "\n",
    "while estado_civil != 's' and estado_civil != 'c' and estado_civil != 'v' and estado_civil != 'd':\n",
    "    estado_civil = input('Estado Civil: [s/c/v/d]')"
   ]
  },
  {
   "cell_type": "markdown",
   "metadata": {},
   "source": [
    "<b>Faça um programa que leia 5 números e informe o maior número.<b>"
   ]
  },
  {
   "cell_type": "code",
   "execution_count": 6,
   "metadata": {},
   "outputs": [
    {
     "name": "stdout",
     "output_type": "stream",
     "text": [
      "Digite o 1º numero: 17\n",
      "Digite o 2º numero: 26\n",
      "Digite o 3º numero: 34\n",
      "Digite o 4º numero: 2\n",
      "Digite o 5º numero: 29\n",
      "\n",
      "O maior numero é 34\n"
     ]
    }
   ],
   "source": [
    "numeros = lambda: [get_numero(f\"Digite o {x}º numero: \") for x in range(1, 6)]\n",
    "\n",
    "print(f'\\nO maior numero é {max(numeros())}')"
   ]
  },
  {
   "cell_type": "markdown",
   "metadata": {},
   "source": [
    "<b>4 Faça um programa que leia 5 números e informe a soma e a média dos números.</b>\n"
   ]
  },
  {
   "cell_type": "code",
   "execution_count": 8,
   "metadata": {},
   "outputs": [
    {
     "name": "stdout",
     "output_type": "stream",
     "text": [
      "Digite o 1º numero: 5\n",
      "Digite o 2º numero: 6\n",
      "Digite o 3º numero: 2\n",
      "Digite o 4º numero: 3\n",
      "Digite o 5º numero: 12\n",
      "----------\n",
      "Soma: 28 \n",
      "Media: 5.6\n"
     ]
    }
   ],
   "source": [
    "(lambda x: print(f'----------\\nSoma: {sum(x)} \\nMedia: {sum(x)/len(x)}'))(numeros())"
   ]
  },
  {
   "cell_type": "markdown",
   "metadata": {},
   "source": [
    "<b>5 Faça um programa que imprima na tela apenas os números ímpares entre 1 e 50</b>"
   ]
  },
  {
   "cell_type": "code",
   "execution_count": 9,
   "metadata": {},
   "outputs": [
    {
     "name": "stdout",
     "output_type": "stream",
     "text": [
      "Numeros ímpares entre 1 e 50: [1, 3, 5, 7, 9, 11, 13, 15, 17, 19, 21, 23, 25, 27, 29, 31, 33, 35, 37, 39, 41, 43, 45, 47, 49]\n"
     ]
    }
   ],
   "source": [
    "print(f'Numeros ímpares entre 1 e 50: {(lambda: [x for x in range(1,51) if not(x % 2 == 0)])()}')"
   ]
  },
  {
   "cell_type": "markdown",
   "metadata": {},
   "source": [
    "<b>6 Desenvolva um gerador de tabuada, capaz de gerar a tabuada de qualquer número\n",
    "inteiro entre 1 a 10. O usuário deve informar de qual numero ele deseja ver a\n",
    "tabuada. A saída deve ser conforme o exemplo abaixo:</b><br><br>\n",
    "Tabuada de 5:<br>\n",
    "5 X 1 = 5<br>\n",
    "5 X 2 = 10<br>\n",
    "...<br>\n",
    "5 X 10 = 50<br>"
   ]
  },
  {
   "cell_type": "code",
   "execution_count": 10,
   "metadata": {},
   "outputs": [
    {
     "name": "stdout",
     "output_type": "stream",
     "text": [
      "Digite uma nota entre 0 e 10: 7\n",
      "Tabuada de 7: \n",
      "7 X 0 = 7\n",
      "7 X 1 = 14\n",
      "7 X 2 = 21\n",
      "7 X 3 = 28\n",
      "7 X 4 = 35\n",
      "7 X 5 = 42\n",
      "7 X 6 = 49\n",
      "7 X 7 = 56\n",
      "7 X 8 = 63\n",
      "7 X 9 = 70\n"
     ]
    }
   ],
   "source": [
    "for i, x in enumerate((lambda: maybe_entre_numeros(0, 10)(lambda x: [x * i for i in range(1, 11)])())()):\n",
    "    if i == 0:\n",
    "        print(f'Tabuada de {x}: ')\n",
    "        y = x\n",
    "    print(f'{y} X {i} = {x}')"
   ]
  },
  {
   "cell_type": "markdown",
   "metadata": {},
   "source": [
    "<b>7 A série de Fibonacci é formada pela seqüência 1,1,2,3,5,8,13,21,34,55,... Faça um\n",
    "programa capaz de gerar a série até o n−ésimo termo.</b>"
   ]
  },
  {
   "cell_type": "code",
   "execution_count": 11,
   "metadata": {},
   "outputs": [
    {
     "name": "stdout",
     "output_type": "stream",
     "text": [
      "Digite até qual termo a série será gerada: 9\n",
      "[1, 1, 2, 3, 5, 8, 13, 21, 34]\n"
     ]
    }
   ],
   "source": [
    "n = int(input('Digite até qual termo a série será gerada: '))\n",
    "\n",
    "a, b = 0, 1 \n",
    "fibonacci = []\n",
    "\n",
    "for x in range(n):\n",
    "    fibonacci.append(b)\n",
    "    a, b = b, a+b\n",
    "    \n",
    "print(fibonacci)"
   ]
  },
  {
   "cell_type": "markdown",
   "metadata": {},
   "source": [
    "<b>8 Faça um programa que calcule o fatorial de um número inteiro fornecido pelo\n",
    "usuário. Ex.: 5!=5.4.3.2.1=120</b>"
   ]
  },
  {
   "cell_type": "code",
   "execution_count": 12,
   "metadata": {},
   "outputs": [
    {
     "name": "stdout",
     "output_type": "stream",
     "text": [
      "Digite o numero que deseja calcular o fatorial7\n",
      "7! = 5040\n"
     ]
    }
   ],
   "source": [
    "from functools import reduce\n",
    "\n",
    "fatorial = lambda numero: reduce(lambda a, b: a * b, [i for i in range(1, numero+1)])\n",
    "x = get_numero(\"Digite o numero que deseja calcular o fatorial\")\n",
    "print(f'{x}! = {fatorial(x)}')"
   ]
  },
  {
   "cell_type": "markdown",
   "metadata": {},
   "source": [
    "- <b>9 O Sr. Manoel Joaquim possui uma grande loja de artigos de RS 1,99, com cerca de\n",
    "10 caixas. Para agilizar o cálculo de quanto cada cliente deve pagar ele desenvolveu\n",
    "um tabela que contém o número de itens que o cliente comprou e ao lado o valor da\n",
    "conta. Desta forma a atendente do caixa precisa apenas contar quantos itens o\n",
    "cliente está levando e olhar na tabela de preços. Você foi contratado para\n",
    "desenvolver o programa que monta esta tabela de preços, que conterá os preços de\n",
    "1 até 50 produtos, conforme o exemplo abaixo:</b><br><br>\n",
    "Lojas Quase Dois - Tabela de preços<br>\n",
    "1 - RS 1.99<br>\n",
    "2 - RS 3.98<br>\n",
    "...<br>\n",
    "50 - R$ 99.50<br>"
   ]
  },
  {
   "cell_type": "code",
   "execution_count": 13,
   "metadata": {},
   "outputs": [
    {
     "name": "stdout",
     "output_type": "stream",
     "text": [
      "Lojas Quase Dois - Tabela de preços\n",
      "1 - R$ 1.99\n",
      "2 - R$ 3.98\n",
      "3 - R$ 5.97\n",
      "4 - R$ 7.96\n",
      "5 - R$ 9.95\n",
      "6 - R$ 11.94\n",
      "7 - R$ 13.93\n",
      "8 - R$ 15.92\n",
      "9 - R$ 17.91\n",
      "10 - R$ 19.90\n",
      "11 - R$ 21.89\n",
      "12 - R$ 23.88\n",
      "13 - R$ 25.87\n",
      "14 - R$ 27.86\n",
      "15 - R$ 29.85\n",
      "16 - R$ 31.84\n",
      "17 - R$ 33.83\n",
      "18 - R$ 35.82\n",
      "19 - R$ 37.81\n",
      "20 - R$ 39.80\n",
      "21 - R$ 41.79\n",
      "22 - R$ 43.78\n",
      "23 - R$ 45.77\n",
      "24 - R$ 47.76\n",
      "25 - R$ 49.75\n",
      "26 - R$ 51.74\n",
      "27 - R$ 53.73\n",
      "28 - R$ 55.72\n",
      "29 - R$ 57.71\n",
      "30 - R$ 59.70\n",
      "31 - R$ 61.69\n",
      "32 - R$ 63.68\n",
      "33 - R$ 65.67\n",
      "34 - R$ 67.66\n",
      "35 - R$ 69.65\n",
      "36 - R$ 71.64\n",
      "37 - R$ 73.63\n",
      "38 - R$ 75.62\n",
      "39 - R$ 77.61\n",
      "40 - R$ 79.60\n",
      "41 - R$ 81.59\n",
      "42 - R$ 83.58\n",
      "43 - R$ 85.57\n",
      "44 - R$ 87.56\n",
      "45 - R$ 89.55\n",
      "46 - R$ 91.54\n",
      "47 - R$ 93.53\n",
      "48 - R$ 95.52\n",
      "49 - R$ 97.51\n",
      "50 - R$ 99.50\n",
      "\n"
     ]
    }
   ],
   "source": [
    "print('Lojas Quase Dois - Tabela de preços')\n",
    "[print(f'{i} - R$ {1.99 * i:.2f}') for i in range(1, 51)]\n",
    "print()"
   ]
  },
  {
   "cell_type": "markdown",
   "metadata": {},
   "source": [
    "<b>10 O Sr. Manoel Joaquim acaba de adquirir uma panificadora e pretende implantar a\n",
    "metodologia da tabelinha, que já é um sucesso na sua loja de 1,99. Você foi\n",
    "contratado para desenvolver o programa que monta a tabela de preços de pães, de\n",
    "1 até 50 pães, a partir do preço do pão informado pelo usuário, conforme o exemplo\n",
    "abaixo:</b><br><br>\n",
    "Preço do pão: RS 0.18<br>\n",
    "Panificadora Pão de Ontem - Tabela de preços<br>\n",
    "1 - RS 0.18<br>\n",
    "2 - RS 0.36<br>\n",
    "...<br>\n",
    "50 - RS 9.00"
   ]
  },
  {
   "cell_type": "code",
   "execution_count": 15,
   "metadata": {},
   "outputs": [
    {
     "name": "stdout",
     "output_type": "stream",
     "text": [
      "Preço do pão: R$0.20\n",
      "Panificadora Pão de Ontem - Tabela de preços\n",
      "1 - R$ 0.20\n",
      "2 - R$ 0.40\n",
      "3 - R$ 0.60\n",
      "4 - R$ 0.80\n",
      "5 - R$ 1.00\n",
      "6 - R$ 1.20\n",
      "7 - R$ 1.40\n",
      "8 - R$ 1.60\n",
      "9 - R$ 1.80\n",
      "10 - R$ 2.00\n",
      "11 - R$ 2.20\n",
      "12 - R$ 2.40\n",
      "13 - R$ 2.60\n",
      "14 - R$ 2.80\n",
      "15 - R$ 3.00\n",
      "16 - R$ 3.20\n",
      "17 - R$ 3.40\n",
      "18 - R$ 3.60\n",
      "19 - R$ 3.80\n",
      "20 - R$ 4.00\n",
      "21 - R$ 4.20\n",
      "22 - R$ 4.40\n",
      "23 - R$ 4.60\n",
      "24 - R$ 4.80\n",
      "25 - R$ 5.00\n",
      "26 - R$ 5.20\n",
      "27 - R$ 5.40\n",
      "28 - R$ 5.60\n",
      "29 - R$ 5.80\n",
      "30 - R$ 6.00\n",
      "31 - R$ 6.20\n",
      "32 - R$ 6.40\n",
      "33 - R$ 6.60\n",
      "34 - R$ 6.80\n",
      "35 - R$ 7.00\n",
      "36 - R$ 7.20\n",
      "37 - R$ 7.40\n",
      "38 - R$ 7.60\n",
      "39 - R$ 7.80\n",
      "40 - R$ 8.00\n",
      "41 - R$ 8.20\n",
      "42 - R$ 8.40\n",
      "43 - R$ 8.60\n",
      "44 - R$ 8.80\n",
      "45 - R$ 9.00\n",
      "46 - R$ 9.20\n",
      "47 - R$ 9.40\n",
      "48 - R$ 9.60\n",
      "49 - R$ 9.80\n",
      "50 - R$ 10.00\n",
      "\n"
     ]
    }
   ],
   "source": [
    "get_numero_float = maybe_number(lambda mensagem: float(input(mensagem)))\n",
    "y = get_numero_float('Preço do pão: R$')\n",
    "print('Panificadora Pão de Ontem - Tabela de preços')\n",
    "[print(f'{i} - R$ {y * i:.2f}') for i in range(1, 51)]\n",
    "print()"
   ]
  },
  {
   "cell_type": "markdown",
   "metadata": {},
   "source": [
    "<b>11 O Sr. Manoel Joaquim expandiu seus negócios para além dos negócios de 1,99 e\n",
    "agora possui uma loja de conveniências. Faça um programa que implemente uma\n",
    "caixa registradora rudimentar. O programa deverá receber um número\n",
    "desconhecido de valores referentes aos preços das mercadorias. Um valor zero deve\n",
    "ser informado pelo operador para indicar o final da compra. O programa deve então\n",
    "mostrar o total da compra e perguntar o valor em dinheiro que o cliente forneceu, \n",
    "para então calcular e mostrar o valor do troco. Após esta operação, o programa\n",
    "deverá voltar ao ponto inicial, para registrar a próxima compra. A saída deve ser\n",
    "conforme o exemplo abaixo:</b><br><br>\n",
    "Lojas Tabajara<br>\n",
    "Produto 1: RS 2.20<br>\n",
    "Produto 2: RS 5.80<br>\n",
    "Produto 3: RS 0<br>\n",
    "Total: RS 9.00<br>\n",
    "Dinheiro: RS 20.00<br>\n",
    "Troco: RS 11.00<br>\n",
    "..."
   ]
  },
  {
   "cell_type": "code",
   "execution_count": 16,
   "metadata": {},
   "outputs": [
    {
     "name": "stdout",
     "output_type": "stream",
     "text": [
      "Lojas Tabajara\n",
      "Produto 1: R$ 4\n",
      "Produto 2: R$ 1\n",
      "Produto 3: R$ 3\n",
      "Produto 4: R$ 5\n",
      "Produto 5: R$ 2\n",
      "Produto 6: R$ 3\n",
      "Produto 7: R$ 0\n",
      "Total: R$ 18.00\n",
      "Dinheiro: R$ 27\n",
      "Troco: R$ 9.0\n",
      "...\n"
     ]
    }
   ],
   "source": [
    "print('Lojas Tabajara')\n",
    "valor = -1\n",
    "total = 0\n",
    "n = 0\n",
    "while valor != 0:\n",
    "    n += 1\n",
    "    valor = float(input(f'Produto {n}: R$ '))\n",
    "    total += valor                  \n",
    "print(f'Total: R$ {total:.2f}')\n",
    "dinheiro = float(input('Dinheiro: R$ '))\n",
    "print(f'Troco: R$ {dinheiro - total}\\n...')"
   ]
  },
  {
   "cell_type": "markdown",
   "metadata": {},
   "source": [
    "<b>12 Foi feita uma estatística em cinco cidades brasileiras para coletar dados sobre\n",
    "acidentes de trânsito. Foram obtidos os seguintes dados:<.b><br><br>\n",
    "- Código da cidade;\n",
    "- Número de veículos de passeio (em 1999);\n",
    "- Número de acidentes de trânsito com vítimas (em 1999). Deseja-se saber:\n",
    "- Qual o maior e menor índice de acidentes de transito e a que cidade pertence;\n",
    "- Qual a média de veículos nas cinco cidades juntas;\n",
    "- Qual a média de acidentes de trânsito nas cidades com menos de 2.000 veículos de\n",
    "passeio."
   ]
  },
  {
   "cell_type": "code",
   "execution_count": null,
   "metadata": {},
   "outputs": [],
   "source": [
    "maior = menor = count = soma_veiculos = soma_acidentes = soma_2k = 0\n",
    "cid_maior = cid_menor = ''\n",
    "\n",
    "for c in range(1,6):\n",
    "    cidade      = input(\"\\nDigite o nome da cidade.....................: \")\n",
    "    codigo      = int(input(\"Digite o código da cidade...................: \"))\n",
    "    veiculos    = int(input(\"Numero de veiculos de passeio...............: \"))\n",
    "    acidentes   = int(input(\"Numero de acidentes de transito com vitimas.: \"))\n",
    "\n",
    "    soma_veiculos += veiculos\n",
    "    soma_acidentes += acidentes\n",
    "\n",
    "    if acidentes > maior:\n",
    "        maior = acidentes\n",
    "        cid_maior = cidade\n",
    "\n",
    "    if acidentes < menor or c == 1:\n",
    "        menor = acidentes\n",
    "        cid_menor = cidade\n",
    "\n",
    "    if veiculos < 2000:\n",
    "        soma_2k += acidentes\n",
    "        count += 1\n",
    "media_nas_5_cidades = soma_veiculos / c\n",
    "media_2k = soma_2k / count\n",
    "\n",
    "\n",
    "print(\"\\n\"+\"-=\"*30 + '-')\n",
    "\n",
    "print(\n",
    "    f\"O menor indice de acidentes de transito {menor} cidade que pertence {cid_menor}\",\n",
    "    f\"O maior indice de acidenstes de transito {maior} cidade que pertence {cid_maior}\",\n",
    "    f\"Media de veiculos nas cincos cidades {media_nas_5_cidades}\", \n",
    "    f\"Media de acidentes de transitos nas cidades com menos de 2000 é {media_2k}\"\n",
    ")"
   ]
  },
  {
   "cell_type": "markdown",
   "metadata": {},
   "source": [
    "<b>13 Faça um programa que receba o valor de uma dívida e mostre uma tabela com os\n",
    "seguintes dados: valor da dívida, valor dos juros, quantidade de parcelas e valor da\n",
    "parcela.<br>\n",
    "Os juros e a quantidade de parcelas seguem a tabela abaixo:</b><br><br>\n",
    "Quantidade de Parcelas % de Juros sobre o valor inicial da dívida<br>\n",
    "- 1 0\n",
    "- 3 10\n",
    "- 6 15\n",
    "- 9 20\n",
    "- 12 25<br>\n",
    "Exemplo de saída do programa:<br>\n",
    "Valor da Dívida Valor dos Juros Quantidade de Parcelas Valor da Parcela<br>\n",
    "- RS 1.000,00 0 1 RS 1.000,00\n",
    "- RS 1.100,00 100 3 RS 366,00\n",
    "- RS 1.150,00 150 6 RS 191,67"
   ]
  },
  {
   "cell_type": "code",
   "execution_count": 18,
   "metadata": {},
   "outputs": [
    {
     "name": "stdout",
     "output_type": "stream",
     "text": [
      "Digite o valor da divida: 900\n",
      "Valor da Dívida\tValor dos Juros\tQuantidade de Parcelas\tValor da Parcela\n",
      "R$ 900,00\t0\t\t1\t\t\tR$ 900,00\n",
      "R$ 990,00\t10\t\t3\t\t\tR$ 330,00\n",
      "R$ 1035,00\t15\t\t6\t\t\tR$ 172,50\n",
      "R$ 1080,00\t20\t\t9\t\t\tR$ 120,00\n",
      "R$ 1125,00\t25\t\t12\t\t\tR$ 93,75\n",
      "\n"
     ]
    }
   ],
   "source": [
    "import locale\n",
    "locale.setlocale(locale.LC_ALL, 'pt_BR.UTF-8')\n",
    "\n",
    "valor_divida = float(input(\"Digite o valor da divida: \"))\n",
    "print('Valor da Dívida', 'Valor dos Juros', 'Quantidade de Parcelas', 'Valor da Parcela', sep=\"\\t\")\n",
    "[\n",
    "    print(\n",
    "        f'{locale.currency(valor_divida * (1+juros/100))}\\t{juros}\\t\\t{parcelas}\\t\\t\\t{locale.currency(valor_divida * (1+juros/100)/parcelas)}'\n",
    "    )\n",
    "    for parcelas, juros in [\n",
    "        [1, 0],\n",
    "        [3, 10],\n",
    "        [6, 15],\n",
    "        [9, 20],\n",
    "        [12, 25]\n",
    "    ]\n",
    "]\n",
    "print()"
   ]
  },
  {
   "cell_type": "markdown",
   "metadata": {},
   "source": [
    "<b>14 Faça um programa que mostre os n termos da Série a seguir:</b><br><br>\n",
    " S = 1/1 + 2/3 + 3/5 + 4/7 + 5/9 + ... + n/m.<br>\n",
    "Imprima no final a soma da série."
   ]
  },
  {
   "cell_type": "code",
   "execution_count": 20,
   "metadata": {},
   "outputs": [
    {
     "name": "stdout",
     "output_type": "stream",
     "text": [
      "Entre com o total de elementos da série: 20\n",
      "S = 1/1 + 2/3 + 3/5 + 4/7 + 5/9 + 6/11 + 7/13 + 8/15 + 9/17 + 10/19 + 11/21 + 12/23 + 13/25 + 14/27 + 15/29 + 16/31 + 17/33 + 18/35 + 19/37 + 20/39 \n",
      "Soma = 11.239836605182267\n"
     ]
    }
   ],
   "source": [
    "n = int(input(\"Entre com o total de elementos da série: \"))\n",
    "b = 1\n",
    "s = ''\n",
    "soma = 0\n",
    "for a in range(1, n + 1):\n",
    "    s += f'{a}/{b}'\n",
    "    if a != n:\n",
    "        s += ' + '\n",
    "    soma += a/b\n",
    "    a += 1 \n",
    "    b += 2\n",
    "    \n",
    "print(f'S = {s} \\nSoma = {soma}')"
   ]
  }
 ],
 "metadata": {
  "kernelspec": {
   "display_name": "Python 3",
   "language": "python",
   "name": "python3"
  },
  "language_info": {
   "codemirror_mode": {
    "name": "ipython",
    "version": 3
   },
   "file_extension": ".py",
   "mimetype": "text/x-python",
   "name": "python",
   "nbconvert_exporter": "python",
   "pygments_lexer": "ipython3",
   "version": "3.7.1"
  }
 },
 "nbformat": 4,
 "nbformat_minor": 2
}
