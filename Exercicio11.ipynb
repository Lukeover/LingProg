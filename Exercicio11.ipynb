{
 "cells": [
  {
   "cell_type": "markdown",
   "metadata": {},
   "source": [
    "###     Built in Functions; Functools; Itertools.\n",
    "\n",
    "LingProg - Lukas Barbosa de Oliveira - RA: 81714448 <br><br>\n",
    "\n",
    "<b>1 Use map() para criar uma função que encontra o comprimento de cada palavra em\n",
    "uma frase (quebrada por espaços) e retorna os valores em um lista. A função deve\n",
    "ter como entrada uma string e como saída uma lista de inteiros.</b><br><br>\n",
    "Ex: word_lengths('How long are the words in this phrase') = <b>[3, 4, 3, 3, 5, 2, 4, 6]</b>"
   ]
  },
  {
   "cell_type": "code",
   "execution_count": 1,
   "metadata": {},
   "outputs": [
    {
     "name": "stdout",
     "output_type": "stream",
     "text": [
      "[3, 4, 3, 3, 5, 2, 4, 6]\n"
     ]
    }
   ],
   "source": [
    "word_lengths = lambda frase: list(map(len, frase.split()))\n",
    "print(word_lengths('How long are the words in this phrase'))"
   ]
  },
  {
   "cell_type": "markdown",
   "metadata": {},
   "source": [
    "<b>2 Use reduce() para pegar uma lista de inteiros e retornar o número que\n",
    "corresponde à combinação destes dígitos. Por exemplo, [1,2,3] corresponde a cento\n",
    "e vinte e três.</b><br><br>\n",
    "Ex: digits_to_num(<b>[3,4,3,2,1]<b>) = 34321"
   ]
  },
  {
   "cell_type": "code",
   "execution_count": 2,
   "metadata": {},
   "outputs": [
    {
     "name": "stdout",
     "output_type": "stream",
     "text": [
      "34321\n"
     ]
    }
   ],
   "source": [
    "from functools import reduce\n",
    "digits_to_num = lambda digitos: int(reduce(lambda a, b: str(a) + str(b), digitos))\n",
    "print(digits_to_num([3,4,3,2,1]))"
   ]
  },
  {
   "cell_type": "markdown",
   "metadata": {},
   "source": [
    "<b>3 Use filter() para retornar as palavras de uma lista de palavras que comecem com\n",
    "uma determinada letra.<br><br>\n",
    "Ex:\n",
    "l = ['hello','are','cat','dog','ham','hi','go','to','heart']\n",
    "filter_words(l,'h') = ['hello', 'ham', 'hi', 'heart']<b>"
   ]
  },
  {
   "cell_type": "code",
   "execution_count": 3,
   "metadata": {},
   "outputs": [
    {
     "name": "stdout",
     "output_type": "stream",
     "text": [
      "['hello', 'ham', 'hi', 'heart']\n"
     ]
    }
   ],
   "source": [
    "l = ['hello','are','cat','dog','ham','hi','go','to','heart']\n",
    "\n",
    "filter_words = lambda palavras, letra: list(filter(lambda palavra: palavra.startswith(letra), palavras))\n",
    "print(filter_words(l,'h'))"
   ]
  },
  {
   "cell_type": "markdown",
   "metadata": {},
   "source": [
    "<b> 4 Use zip() e uma list comprehension para retornar uma lista do mesmo tamanho\n",
    "onde cada valor é a concatenação de duas strings de L1 e L2 com o conector\n",
    "também passado como argumento entre elas.<br><br>\n",
    "Ex: concatenate(['A','B'],['a','b'],'-') = ['A-a', 'B-b']</b>"
   ]
  },
  {
   "cell_type": "code",
   "execution_count": 4,
   "metadata": {},
   "outputs": [
    {
     "name": "stdout",
     "output_type": "stream",
     "text": [
      "['A-a', 'B-b']\n"
     ]
    }
   ],
   "source": [
    "concatenate = lambda L1, L2, sep: [str(sep).join(x) for x in zip(L1, L2)]\n",
    "print(concatenate(['A','B'],['a','b'],'-'))"
   ]
  },
  {
   "cell_type": "markdown",
   "metadata": {},
   "source": [
    "<b>5 Use enumerate() e outras funções para retornar um dicionário que tem os valores\n",
    "de uma lista como chaves e seus índices como valor. Assuma que o valor irá aparecer\n",
    "uma única vez na lista.<br><br>\n",
    "Ex: d_list(['a','b','c']) = {'a': 0, 'b': 1, 'c': 2}</b>"
   ]
  },
  {
   "cell_type": "code",
   "execution_count": 5,
   "metadata": {},
   "outputs": [
    {
     "name": "stdout",
     "output_type": "stream",
     "text": [
      "{'a': 0, 'b': 1, 'c': 2}\n"
     ]
    }
   ],
   "source": [
    "d_list = lambda lista: dict(map(reversed, dict((enumerate(lista))).items()))\n",
    "print(d_list(['a','b','c']))"
   ]
  },
  {
   "cell_type": "markdown",
   "metadata": {},
   "source": [
    "<b>6 Use enumerate() e outras funções para retornar a contagem do número de itens\n",
    "de uma lista cujo valor seja igual ao seu índice.<br><br>\n",
    "Ex: count_match_index([0,2,2,1,5,5,6,10]) = 4<br>\n",
    "O zero na posição 0, 2 na posição 2, 5 na 5 e 6 na 6.</b>"
   ]
  },
  {
   "cell_type": "code",
   "execution_count": 6,
   "metadata": {},
   "outputs": [
    {
     "name": "stdout",
     "output_type": "stream",
     "text": [
      "4\n"
     ]
    }
   ],
   "source": [
    "count_match_index = lambda lista: len(list(filter(lambda x: x[0] == x[1], enumerate(lista))))\n",
    "print(count_match_index([0,2,2,1,5,5,6,10]))"
   ]
  }
 ],
 "metadata": {
  "kernelspec": {
   "display_name": "Python 3",
   "language": "python",
   "name": "python3"
  },
  "language_info": {
   "codemirror_mode": {
    "name": "ipython",
    "version": 3
   },
   "file_extension": ".py",
   "mimetype": "text/x-python",
   "name": "python",
   "nbconvert_exporter": "python",
   "pygments_lexer": "ipython3",
   "version": "3.7.1"
  }
 },
 "nbformat": 4,
 "nbformat_minor": 2
}
